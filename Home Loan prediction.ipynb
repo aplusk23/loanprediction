{
  "nbformat": 4,
  "nbformat_minor": 0,
  "metadata": {
    "kernelspec": {
      "display_name": "Python 3",
      "language": "python",
      "name": "python3"
    },
    "language_info": {
      "codemirror_mode": {
        "name": "ipython",
        "version": 3
      },
      "file_extension": ".py",
      "mimetype": "text/x-python",
      "name": "python",
      "nbconvert_exporter": "python",
      "pygments_lexer": "ipython3",
      "version": "3.6.3"
    },
    "colab": {
      "name": "Home Loan prediction.ipynb",
      "provenance": []
    }
  },
  "cells": [
    {
      "cell_type": "markdown",
      "metadata": {
        "_uuid": "c3c57cdbc39a1b73c60feb5c704c3b7079e9014b",
        "id": "1D81V2r60C_M"
      },
      "source": [
        "# About The Data:"
      ]
    },
    {
      "cell_type": "markdown",
      "metadata": {
        "_uuid": "0f57114788848c6161bdf2c5e274dd7ad72f2971",
        "id": "9tXIOT4O0C_N"
      },
      "source": [
        "\n",
        "\n",
        "\n",
        "\n",
        "Given below is the description for each variable.\n",
        "\n",
        "\n",
        "\n",
        "\n",
        "Variable ----- Description\n",
        "\n",
        "Loan_ID -->> Unique Loan ID\n",
        "\n",
        "Gender -->> Male/ Female\n",
        "\n",
        "Married -->> Applicant married (Y/N)\n",
        "\n",
        "Dependents -->> Number of dependents\n",
        "\n",
        "Education -->> Applicant Education (Graduate/ Under Graduate)\n",
        "\n",
        "Self_Employed -->> Self employed (Y/N)\n",
        "\n",
        "ApplicantIncome -->> Applicant income\n",
        "\n",
        "CoapplicantIncome -->> Coapplicant income\n",
        "\n",
        "LoanAmount -->>  Loan amount in thousands\n",
        "\n",
        "Loan_Amount_Term -->> Term of loan in months\n",
        "\n",
        "Credit_History -->> credit history meets guidelines\n",
        "\n",
        "Property_Area -->> Urban/ Semi Urban/ Rural\n",
        "\n",
        "Loan_Status -->> Loan approved (Y/N)"
      ]
    },
    {
      "cell_type": "markdown",
      "metadata": {
        "collapsed": true,
        "_uuid": "ddb5e801c79a85da28eb5fd1a60758609ca2af1c",
        "id": "INxCpyc40C_P"
      },
      "source": [
        "# Import required packages"
      ]
    },
    {
      "cell_type": "code",
      "metadata": {
        "trusted": true,
        "_uuid": "0c87da7637d61a6d32cf9d51d5e6ae8585f3f041",
        "id": "YH-OX-MU0C_Q"
      },
      "source": [
        "import pandas as pd\n",
        "import numpy as np\n",
        "import seaborn as sns\n",
        "import matplotlib.pyplot as plt\n",
        "%matplotlib inline\n",
        "import warnings\n",
        "warnings.filterwarnings(\"ignore\")"
      ],
      "execution_count": null,
      "outputs": []
    },
    {
      "cell_type": "markdown",
      "metadata": {
        "_uuid": "4171540782a03181f567e76f09d672ad829e6407",
        "id": "ByxD9SK70C_a"
      },
      "source": [
        "# Data"
      ]
    },
    {
      "cell_type": "markdown",
      "metadata": {
        "_uuid": "96ff338589e485cb659e243e6e0b1b41587c6994",
        "id": "IMS-9vBb0C_c"
      },
      "source": [
        " For this practice problem, we have been given two CSV files: train and test."
      ]
    },
    {
      "cell_type": "markdown",
      "metadata": {
        "_uuid": "7769c482b5f81c501453ec18549ab49fc040c854",
        "id": "IBVtxf6c0C_d"
      },
      "source": [
        "Train file will be used for training the model, i.e. our model will learn from this file. It contains all the independent variables and the target variable.\n",
        "\n",
        "Test file contains all the independent variables, but not the target variable. We will apply the model to predict the target variable for the test data."
      ]
    },
    {
      "cell_type": "markdown",
      "metadata": {
        "_uuid": "92974d0bb49ce2f374f5d9c21b282037db0c4e40",
        "id": "eLLUKFM90C_e"
      },
      "source": [
        "# Read Train and Test Data"
      ]
    },
    {
      "cell_type": "code",
      "metadata": {
        "trusted": true,
        "_uuid": "83ad303bfa71002ccd20f412841c3078e4c64b81",
        "id": "nvRCLGex0C_g"
      },
      "source": [
        "train = pd.read_csv(\"../input/train.csv\")\n",
        "test = pd.read_csv(\"../input/test.csv\")"
      ],
      "execution_count": null,
      "outputs": []
    },
    {
      "cell_type": "markdown",
      "metadata": {
        "_uuid": "c407fda1c35b099e26c6e963600ec8adf9784066",
        "id": "CUVHGnBP0C_p"
      },
      "source": [
        "# Copy of original data"
      ]
    },
    {
      "cell_type": "markdown",
      "metadata": {
        "_uuid": "742c5198be0674ab978aa3816aa55fef3052e0da",
        "id": "mn-AEtEG0C_r"
      },
      "source": [
        "Let’s make a copy of train and test data so that even if we have to make any changes in these datasets we would not lose the original datasets."
      ]
    },
    {
      "cell_type": "code",
      "metadata": {
        "trusted": true,
        "_uuid": "e6e2cb249f0fa4a761bd3ec2d9b4547c2b524ed4",
        "id": "eUNpVv-S0C_s"
      },
      "source": [
        "train_original = train.copy()\n",
        "test_original = test.copy()"
      ],
      "execution_count": null,
      "outputs": []
    },
    {
      "cell_type": "markdown",
      "metadata": {
        "_uuid": "c4e81f7dfa14e0d185e1a6f560872c4c9f3442cf",
        "id": "ycqfzgy60C_0"
      },
      "source": [
        "# Understanding the Data"
      ]
    },
    {
      "cell_type": "markdown",
      "metadata": {
        "_uuid": "03d9f224d04002d025e1c616a8eae28d5a425257",
        "id": "BXIhervr0C_1"
      },
      "source": [
        "In this section, we will look at the structure of the train and test datasets. Firstly, we will check the features present in our data and then we will look at their data types."
      ]
    },
    {
      "cell_type": "code",
      "metadata": {
        "trusted": true,
        "_uuid": "17f3b62b8a2d3d28006c5efb4f8d2d5c59d290a5",
        "id": "HGrlFrgV0C_3"
      },
      "source": [
        "train.columns"
      ],
      "execution_count": null,
      "outputs": []
    },
    {
      "cell_type": "markdown",
      "metadata": {
        "_uuid": "9342aa80d92510358a80ec7d199c99815bb36a90",
        "id": "XDiDwkPQ0C_9"
      },
      "source": [
        "We have 12 independent variables and 1 target variable, i.e. Loan_Status in the train dataset. Let’s also have a look at the columns of test dataset."
      ]
    },
    {
      "cell_type": "code",
      "metadata": {
        "trusted": true,
        "_uuid": "dcfddf7d44dbe347b14594b4b2ac1af07d4e6ecf",
        "id": "pGLb7vdk0C__"
      },
      "source": [
        "test.columns"
      ],
      "execution_count": null,
      "outputs": []
    },
    {
      "cell_type": "markdown",
      "metadata": {
        "_uuid": "b0f1abbdc6f802eea42d177f581be6babbdf2daa",
        "id": "Ek89_Mv50DAG"
      },
      "source": [
        "We have similar features in the test dataset as the train dataset except the Loan_Status. We will predict the Loan_Status using the model that we will build using the train data."
      ]
    },
    {
      "cell_type": "markdown",
      "metadata": {
        "_uuid": "777c5110d6660218971ed772f0b3df0f0ed93f06",
        "id": "3kvIUL-X0DAH"
      },
      "source": [
        "# Print the data types"
      ]
    },
    {
      "cell_type": "code",
      "metadata": {
        "trusted": true,
        "_uuid": "322ee6e07ec4411ea39d023ec9047f61bc164603",
        "id": "evJVvSpH0DAJ"
      },
      "source": [
        "train.dtypes"
      ],
      "execution_count": null,
      "outputs": []
    },
    {
      "cell_type": "markdown",
      "metadata": {
        "_uuid": "51ab3cfce64fddc29d4f42a3d284d78993b69dbe",
        "id": "y9SkvGOy0DAP"
      },
      "source": [
        "We can see there are three format of data types:\n"
      ]
    },
    {
      "cell_type": "markdown",
      "metadata": {
        "_uuid": "8dc66e5afded16c0304ebe99f193f0ae713c0873",
        "id": "VoBwc90y0DAR"
      },
      "source": [
        "object: Object format means variables are categorical. Categorical variables in our dataset are: Loan_ID, Gender, Married, Dependents, Education, Self_Employed, Property_Area, Loan_Status."
      ]
    },
    {
      "cell_type": "markdown",
      "metadata": {
        "_uuid": "94c6281ec3c0597b8a7cac93a501260777e75e70",
        "id": "PJUmYTzX0DAS"
      },
      "source": [
        "int64: It represents the integer variables. ApplicantIncome is of this format."
      ]
    },
    {
      "cell_type": "markdown",
      "metadata": {
        "_uuid": "c33e280817c56e642477cc02b58ab38d8a725b4a",
        "id": "TJ0lP0H-0DAT"
      },
      "source": [
        "float64: It represents the variable which have some decimal values involved. They are also numerical variables. Numerical variables in our dataset are: CoapplicantIncome, LoanAmount, Loan_Amount_Term, and Credit_History."
      ]
    },
    {
      "cell_type": "markdown",
      "metadata": {
        "_uuid": "a218a0498dc757f8c0f0aec3d5ee6a3c0b353218",
        "id": "EVFCzCg90DAU"
      },
      "source": [
        "# Shape of the dataset"
      ]
    },
    {
      "cell_type": "code",
      "metadata": {
        "trusted": true,
        "_uuid": "f3bdbd0e5bfaf3e94de8b63f3209f15b02a222e8",
        "id": "rQiZ9BnN0DAW"
      },
      "source": [
        "print('Training data shape: ', train.shape)\n",
        "train.head()"
      ],
      "execution_count": null,
      "outputs": []
    },
    {
      "cell_type": "code",
      "metadata": {
        "trusted": true,
        "_uuid": "1e87f37fbc1391ffc0ce7362df4c608140b72997",
        "id": "L6pg7CVu0DAd"
      },
      "source": [
        "print('Test data shape: ', test.shape)\n",
        "test.head()"
      ],
      "execution_count": null,
      "outputs": []
    },
    {
      "cell_type": "markdown",
      "metadata": {
        "_uuid": "c661381b9f4869dded6123c479aafcfff5bd55d8",
        "id": "wm_ksjiP0DAk"
      },
      "source": [
        "We have 614 rows and 13 columns in the train dataset and 367 rows and 12 columns in test dataset."
      ]
    },
    {
      "cell_type": "markdown",
      "metadata": {
        "_uuid": "bb7613843e5f55843f4c3a86daab1186b4503744",
        "id": "I31naP3l0DAl"
      },
      "source": [
        "# Univariate Analysis"
      ]
    },
    {
      "cell_type": "markdown",
      "metadata": {
        "_uuid": "d43d5745b2500f48ee879edb85f67fcaa5ecf0c3",
        "id": "H0e4yc4I0DAn"
      },
      "source": [
        "In this section, we will do univariate analysis. It is the simplest form of analyzing data where we examine each variable individually. \n",
        "\n",
        "For categorical features we can use frequency table or bar plots which will calculate the number of each category in a particular variable.\n",
        "\n",
        "For numerical features, probability density plots can be used to look at the distribution of the variable."
      ]
    },
    {
      "cell_type": "markdown",
      "metadata": {
        "_uuid": "8c7887ee70a86c7cc6a003410e162d135e9a62e1",
        "id": "cVcaw5930DAo"
      },
      "source": [
        "# Target Variable"
      ]
    },
    {
      "cell_type": "markdown",
      "metadata": {
        "_uuid": "049e1840ddd6f5f9403148f987b364ac1239ef66",
        "id": "Xw19DVe90DAq"
      },
      "source": [
        "We will first look at the target variable, i.e., Loan_Status.\n",
        "\n",
        "As it is a categorical variable, let us look at its frequency table, percentage distribution and bar plot."
      ]
    },
    {
      "cell_type": "markdown",
      "metadata": {
        "_uuid": "7b2e442e85fee55fd2aee595080f90ba7f009a20",
        "id": "VspBJ4R80DAr"
      },
      "source": [
        "Frequency table of a variable will give us the count of each category in that variable."
      ]
    },
    {
      "cell_type": "code",
      "metadata": {
        "trusted": true,
        "_uuid": "eec9660b429bbbbd98f9594fb3a5109bd2f3ea67",
        "id": "UovEt5aP0DAs"
      },
      "source": [
        "#train[\"Loan_Status\"].size\n",
        "train[\"Loan_Status\"].count()"
      ],
      "execution_count": null,
      "outputs": []
    },
    {
      "cell_type": "markdown",
      "metadata": {
        "_uuid": "ca4dc6edb96959dc7ceb89e5f6db5b7f71bf5e84",
        "id": "7q5YuWLR0DA3"
      },
      "source": [
        "Size of our target variable is : 614"
      ]
    },
    {
      "cell_type": "code",
      "metadata": {
        "trusted": true,
        "_uuid": "4d3928d89491e777183c7de216d377447ce64186",
        "id": "34lfxEHl0DA5"
      },
      "source": [
        "train[\"Loan_Status\"].value_counts()"
      ],
      "execution_count": null,
      "outputs": []
    },
    {
      "cell_type": "markdown",
      "metadata": {
        "_uuid": "647b43c2d0bfe0820ec9b02ab226aa6035fe0130",
        "id": "SDr8RtYG0DA_"
      },
      "source": [
        "Among 614 Loan_Status :\n",
        "Accepted : 422 \n",
        "Rejected : 192"
      ]
    },
    {
      "cell_type": "code",
      "metadata": {
        "trusted": true,
        "_uuid": "7a53f12f542882478747e7f6469b5a2e75727e2c",
        "id": "6Wik-xkl0DBA"
      },
      "source": [
        "# Normalize can be set to True to print proportions instead of number \n",
        "train[\"Loan_Status\"].value_counts(normalize=True)*100"
      ],
      "execution_count": null,
      "outputs": []
    },
    {
      "cell_type": "code",
      "metadata": {
        "trusted": true,
        "_uuid": "d2ffa47ed61b5ac403fc10b5cd935f50fc973ac1",
        "id": "ySDdxw9r0DBI"
      },
      "source": [
        "train[\"Loan_Status\"].value_counts(normalize=True).plot.bar(title = 'Loan_Status')"
      ],
      "execution_count": null,
      "outputs": []
    },
    {
      "cell_type": "markdown",
      "metadata": {
        "_uuid": "4221c45888f97ffd84e346adb396a58f3ab7f98d",
        "id": "NKoX1OLk0DBP"
      },
      "source": [
        "The loan of 422(around 69%) people out of 614 was approved."
      ]
    },
    {
      "cell_type": "markdown",
      "metadata": {
        "_uuid": "73435e5742dc631c284df14b12bee4a86fbe3574",
        "id": "RIsHKBYG0DBQ"
      },
      "source": [
        "Now lets visualize each variable separately. Different types of variables are Categorical, ordinal and numerical."
      ]
    },
    {
      "cell_type": "markdown",
      "metadata": {
        "_uuid": "2f609146393ec79991fc37b83f75436c607c1661",
        "id": "wq6ACqU20DBT"
      },
      "source": [
        "Categorical features: These features have categories (Gender, Married, Self_Employed, Credit_History, Loan_Status)"
      ]
    },
    {
      "cell_type": "markdown",
      "metadata": {
        "_uuid": "b67622450ddb029cb470b125b08c0a06d0c3f29d",
        "id": "pQWNnI-h0DBU"
      },
      "source": [
        "# Independent Variable (Categorical)"
      ]
    },
    {
      "cell_type": "markdown",
      "metadata": {
        "_uuid": "db2ab2be3d65b1d89d336fc3201ca4d0655146fa",
        "id": "7DmmlC8p0DBV"
      },
      "source": [
        "# Analysis on \"Gender\" variable :"
      ]
    },
    {
      "cell_type": "code",
      "metadata": {
        "trusted": true,
        "_uuid": "043ffbc2072e01264f52ff573ad289e57749cc38",
        "id": "R4DXOVMZ0DBW"
      },
      "source": [
        "train[\"Gender\"].count()"
      ],
      "execution_count": null,
      "outputs": []
    },
    {
      "cell_type": "markdown",
      "metadata": {
        "_uuid": "f47db682c421b0005f2dbab0baa77f11ed15dbb1",
        "id": "HBIwHdPF0DBd"
      },
      "source": [
        "Size of our \"Gender\" variable is : 614"
      ]
    },
    {
      "cell_type": "code",
      "metadata": {
        "trusted": true,
        "_uuid": "7a7f04b6f1f3463ce52388824dd5d29a7c94beee",
        "id": "abgqM5oj0DBf"
      },
      "source": [
        "train[\"Gender\"].value_counts()"
      ],
      "execution_count": null,
      "outputs": []
    },
    {
      "cell_type": "markdown",
      "metadata": {
        "_uuid": "397b6194e78e3b7ab6093a48a4bca9c05f19f6b9",
        "id": "RbBtDc5o0DBo"
      },
      "source": [
        "Among 601 person: \n",
        "Male : 489 \n",
        "Female : 112"
      ]
    },
    {
      "cell_type": "code",
      "metadata": {
        "trusted": true,
        "_uuid": "4952b9d859b49aff3786ff7ea4b68d3e97a8caf4",
        "id": "eGF6Va_e0DBp"
      },
      "source": [
        "train['Gender'].value_counts(normalize=True)*100"
      ],
      "execution_count": null,
      "outputs": []
    },
    {
      "cell_type": "code",
      "metadata": {
        "trusted": true,
        "_uuid": "8700758af3eeba08aeea0330836def2a97954e79",
        "id": "erTmX_7P0DBv"
      },
      "source": [
        "train['Gender'].value_counts(normalize=True).plot.bar(title= 'Gender')"
      ],
      "execution_count": null,
      "outputs": []
    },
    {
      "cell_type": "markdown",
      "metadata": {
        "_uuid": "0d27005f535781e50731f0bdf4437a6ef5d5c53b",
        "id": "9WS_rymr0DB1"
      },
      "source": [
        "In our train dataset the \"Gender\" variable contain\n",
        "Male : 81%\n",
        "Female: 19%     "
      ]
    },
    {
      "cell_type": "markdown",
      "metadata": {
        "_uuid": "8716f685afbfad573a547ac1809f2d95497d617e",
        "id": "vNGM6WGV0DB2"
      },
      "source": [
        "# Analysis on \"Married\" variable :"
      ]
    },
    {
      "cell_type": "code",
      "metadata": {
        "trusted": true,
        "_uuid": "5260e5a84a3d612bf12835c062c87fed749bb455",
        "id": "LjIj2wQ40DB3"
      },
      "source": [
        "train[\"Married\"].count()"
      ],
      "execution_count": null,
      "outputs": []
    },
    {
      "cell_type": "markdown",
      "metadata": {
        "_uuid": "be8e4d52c71f6cf2affbe7a7a2d72acae544403c",
        "id": "_Hb3u7ZQ0DB-"
      },
      "source": [
        "Size of our \"Married\" variable is : 611"
      ]
    },
    {
      "cell_type": "code",
      "metadata": {
        "trusted": true,
        "_uuid": "8293c7ca49b90a8643aab93619530e63b0fc6135",
        "id": "pWBSB1sf0DCA"
      },
      "source": [
        "train[\"Married\"].value_counts()"
      ],
      "execution_count": null,
      "outputs": []
    },
    {
      "cell_type": "markdown",
      "metadata": {
        "_uuid": "61e540cc94836b7a6f73f50583e2db84cbddd41f",
        "id": "NzoSJ_zo0DCH"
      },
      "source": [
        "Total number of people : 611\n",
        "\n",
        "Married : 398\n",
        "\n",
        "Unmarried : 213    "
      ]
    },
    {
      "cell_type": "code",
      "metadata": {
        "trusted": true,
        "_uuid": "ac7b58fce7c19298d3278896dff21e3e2b26deb3",
        "id": "y4QE-4Rw0DCI"
      },
      "source": [
        "train['Married'].value_counts(normalize=True)*100"
      ],
      "execution_count": null,
      "outputs": []
    },
    {
      "cell_type": "code",
      "metadata": {
        "trusted": true,
        "_uuid": "e49d98637a1006ea2e68a69b51094bda42f485d4",
        "id": "4G5Xdsq10DCO"
      },
      "source": [
        "train['Married'].value_counts(normalize=True).plot.bar(title= 'Married')"
      ],
      "execution_count": null,
      "outputs": []
    },
    {
      "cell_type": "markdown",
      "metadata": {
        "_uuid": "564cca5f2adee036022710e24ce05974bda50724",
        "id": "JVJosN5e0DCW"
      },
      "source": [
        "From the Grapch we see that :\n",
        "\n",
        "Number of married people : 65%\n",
        "\n",
        "Number of unmarried people : 35%    "
      ]
    },
    {
      "cell_type": "markdown",
      "metadata": {
        "_uuid": "bc490415258095a11b7215bb5fa896b4c5b98764",
        "id": "aZCpBibX0DCX"
      },
      "source": [
        "# Analysis on \"Self_Employed\" variable : "
      ]
    },
    {
      "cell_type": "code",
      "metadata": {
        "trusted": true,
        "_uuid": "82a17178745cc4712493e08fdab6832ab88f0576",
        "id": "IKs3328b0DCY"
      },
      "source": [
        "train[\"Self_Employed\"].count()"
      ],
      "execution_count": null,
      "outputs": []
    },
    {
      "cell_type": "markdown",
      "metadata": {
        "_uuid": "087451513d74f1aa94f98851c95fbeb2d09fd501",
        "id": "awTvZtlI0DCf"
      },
      "source": [
        "Size of our \"Self_Employed\" variable is : 582"
      ]
    },
    {
      "cell_type": "code",
      "metadata": {
        "trusted": true,
        "_uuid": "576a5f0eaff4f32f0d262b29e3ec2c3c6fb17816",
        "id": "eHA-1NdY0DCg"
      },
      "source": [
        "train[\"Self_Employed\"].value_counts()"
      ],
      "execution_count": null,
      "outputs": []
    },
    {
      "cell_type": "markdown",
      "metadata": {
        "_uuid": "b40e889caacd1fcf4b23904d4dd75bf5a81910e7",
        "id": "9e0lPz_G0DCo"
      },
      "source": [
        "Total number of people : 582\n",
        "\n",
        "Self_Employed : 82\n",
        "\n",
        "Not_Self_Employed : 500"
      ]
    },
    {
      "cell_type": "code",
      "metadata": {
        "trusted": true,
        "_uuid": "b952ab2c65ccdda7de675b96971f16239318ef9b",
        "id": "DStGRdzY0DCp"
      },
      "source": [
        "train['Self_Employed'].value_counts(normalize=True)*100"
      ],
      "execution_count": null,
      "outputs": []
    },
    {
      "cell_type": "code",
      "metadata": {
        "trusted": true,
        "_uuid": "1674948e9f8eefadb3e773e71d25cc539c0a6753",
        "id": "47JNZanS0DCx"
      },
      "source": [
        "train['Self_Employed'].value_counts(normalize=True).plot.bar(title='Self_Employed')"
      ],
      "execution_count": null,
      "outputs": []
    },
    {
      "cell_type": "markdown",
      "metadata": {
        "_uuid": "a92815e3138a5cfee5cad0b0f84c3ef6e2663f09",
        "id": "uEy3qoaC0DC5"
      },
      "source": [
        "Among 582 people only 14% are Self_Employed and rest of the 86% are Not_Self_Employed"
      ]
    },
    {
      "cell_type": "markdown",
      "metadata": {
        "_uuid": "3d320b376831726b8796e75fb6f39f7b0dcbeb29",
        "id": "pmdIB3VO0DC6"
      },
      "source": [
        "# Analysis on \"Credit_History\" variable :"
      ]
    },
    {
      "cell_type": "code",
      "metadata": {
        "trusted": true,
        "_uuid": "75f5b4efdcb7aa91398b66e83693e41a7830b05d",
        "id": "LKojjCnZ0DC7"
      },
      "source": [
        "train[\"Credit_History\"].count()"
      ],
      "execution_count": null,
      "outputs": []
    },
    {
      "cell_type": "markdown",
      "metadata": {
        "_uuid": "5266c4c56d54f37bf4ac95a6a32f3debf668e62e",
        "id": "9t6LM4zP0DDC"
      },
      "source": [
        "Size of our \"Credit_History\" variable is : 564"
      ]
    },
    {
      "cell_type": "code",
      "metadata": {
        "trusted": true,
        "_uuid": "94e79d30be08624c95d72e38ec7ea777cdc69e9d",
        "id": "m5YACwyt0DDD"
      },
      "source": [
        "train[\"Credit_History\"].value_counts()"
      ],
      "execution_count": null,
      "outputs": []
    },
    {
      "cell_type": "markdown",
      "metadata": {
        "_uuid": "242303aa89d615f66169c83c2e3c6fcddd283592",
        "id": "P3qkdDyb0DDI"
      },
      "source": [
        "Total number of debts : 564\n",
        "\n",
        "Repaid Debts : 475\n",
        "\n",
        "Not Repaid Debts : 89    "
      ]
    },
    {
      "cell_type": "code",
      "metadata": {
        "trusted": true,
        "_uuid": "5d3aa37f879e88d0433b4a9a86a7c771d560a156",
        "id": "up_m_S-p0DDL"
      },
      "source": [
        "train['Credit_History'].value_counts(normalize=True)*100"
      ],
      "execution_count": null,
      "outputs": []
    },
    {
      "cell_type": "code",
      "metadata": {
        "trusted": true,
        "_uuid": "630a2649c89f664e2874a47f92ac8e09fe85c9a3",
        "id": "YY-9sqbP0DDR"
      },
      "source": [
        "train['Credit_History'].value_counts(normalize=True).plot.bar(title='Credit_History')\n"
      ],
      "execution_count": null,
      "outputs": []
    },
    {
      "cell_type": "markdown",
      "metadata": {
        "_uuid": "f9cb0b59105dc8b44cc75d56a00dc3c8a298416d",
        "id": "ZndN-Ltr0DDb"
      },
      "source": [
        "Around 84% applicants have repaid their debts."
      ]
    },
    {
      "cell_type": "markdown",
      "metadata": {
        "_uuid": "8f5866e8f4165b3d8411cdd39e27f087b73a95fe",
        "id": "UN6ANtSg0DDc"
      },
      "source": [
        "Ordinal features: Variables in categorical features having some order involved (Dependents, Education, Property_Area)"
      ]
    },
    {
      "cell_type": "markdown",
      "metadata": {
        "_uuid": "1d0876e4a9e5c3458f5258b8fc7ee35061cb1b44",
        "id": "PCPsfro_0DDe"
      },
      "source": [
        "# Independent Variable (Ordinal)"
      ]
    },
    {
      "cell_type": "markdown",
      "metadata": {
        "_uuid": "162ff964d3c5a0d1de6a663f09968c3221a70911",
        "id": "tNVAbDmg0DDe"
      },
      "source": [
        "Ordinal features: Variables in categorical features having some order involved (Dependents, Education, Property_Area)"
      ]
    },
    {
      "cell_type": "markdown",
      "metadata": {
        "_uuid": "62a4ac2bac000b763a1d97fe6879895888224661",
        "id": "aHlNEfIo0DDh"
      },
      "source": [
        "# Analysis on \"Dependents\" variable :"
      ]
    },
    {
      "cell_type": "code",
      "metadata": {
        "trusted": true,
        "_uuid": "0627a1636e2a28fb9f1847b7a303775809da0f64",
        "id": "KnHDw8RB0DDo"
      },
      "source": [
        "train['Dependents'].count()"
      ],
      "execution_count": null,
      "outputs": []
    },
    {
      "cell_type": "markdown",
      "metadata": {
        "_uuid": "7cfcc8ee54d6a89ef6cb5a12180e1100a968649d",
        "id": "DAQBEmL60DDw"
      },
      "source": [
        "Size of our \"Dependents\" variable is : 599"
      ]
    },
    {
      "cell_type": "code",
      "metadata": {
        "trusted": true,
        "_uuid": "e89cc36eaebc8aa69c24a7cfec01ddc8ebf9b152",
        "id": "2FWqy0UV0DDz"
      },
      "source": [
        "train[\"Dependents\"].value_counts()"
      ],
      "execution_count": null,
      "outputs": []
    },
    {
      "cell_type": "markdown",
      "metadata": {
        "_uuid": "7022370553f01e8a176bc1d289b00f1673e59499",
        "id": "X_Vx6iL90DD6"
      },
      "source": [
        "Number of 0 Dependent : 345\n",
        "\n",
        "Number of 1 Dependent : 102\n",
        "\n",
        "Number of 2 Dependesnt : 101\n",
        "\n",
        "Number of 3+ Dependent : 51"
      ]
    },
    {
      "cell_type": "code",
      "metadata": {
        "trusted": true,
        "_uuid": "8d74b3b0e9fc096c4e28a975c79aa123316645d2",
        "id": "1hgXkfax0DD7"
      },
      "source": [
        "train['Dependents'].value_counts(normalize=True)*100"
      ],
      "execution_count": null,
      "outputs": []
    },
    {
      "cell_type": "code",
      "metadata": {
        "trusted": true,
        "_uuid": "d9a5fe8558178314adbff17efb19aed42596761c",
        "id": "z-E9-Gxh0DEA"
      },
      "source": [
        "train['Dependents'].value_counts(normalize=True).plot.bar(title=\"Dependents\")"
      ],
      "execution_count": null,
      "outputs": []
    },
    {
      "cell_type": "markdown",
      "metadata": {
        "_uuid": "c7b3a497f41df12ea285efffb90b204f1d565545",
        "id": "b2dVGnb10DEG"
      },
      "source": [
        "58% people have 0 dependent\n",
        "\n",
        "17% people have 1 dependent\n",
        "\n",
        "17% people have 2 dependent\n",
        "\n",
        "8% people have 3+ dependent"
      ]
    },
    {
      "cell_type": "markdown",
      "metadata": {
        "_uuid": "413a4e61a815d13009dc498d9e49eed3d3ffafd9",
        "id": "mvFRMiiH0DEH"
      },
      "source": [
        "# Analysis on \"Education\" variable :"
      ]
    },
    {
      "cell_type": "code",
      "metadata": {
        "trusted": true,
        "_uuid": "6a2b4dcc6c8db8fc1b940d872d7fca59cc619574",
        "id": "Pc1MMQGY0DEH"
      },
      "source": [
        "train[\"Education\"].count()"
      ],
      "execution_count": null,
      "outputs": []
    },
    {
      "cell_type": "markdown",
      "metadata": {
        "_uuid": "23bf5801a119596164795a95cc6e1ed2942e1dab",
        "id": "P35fJzbN0DEM"
      },
      "source": [
        "Size of Education variable : 614"
      ]
    },
    {
      "cell_type": "code",
      "metadata": {
        "trusted": true,
        "_uuid": "535edaeb4c1941d4b936d83c19860acfa2472a6b",
        "id": "U3VfOzCp0DEN"
      },
      "source": [
        "train[\"Education\"].value_counts()"
      ],
      "execution_count": null,
      "outputs": []
    },
    {
      "cell_type": "markdown",
      "metadata": {
        "_uuid": "c8b60ae414b444ac68b9535316c01b404badd6b9",
        "id": "lm7N2EFk0DEU"
      },
      "source": [
        "People who are Graduated : 480\n",
        "\n",
        "People who are not Graduated : 134"
      ]
    },
    {
      "cell_type": "code",
      "metadata": {
        "trusted": true,
        "_uuid": "e4af36d23023c97b3a5d9d94347bb6a84a9cd2c0",
        "id": "vEnhhhN80DEV"
      },
      "source": [
        "train[\"Education\"].value_counts(normalize=True)*100"
      ],
      "execution_count": null,
      "outputs": []
    },
    {
      "cell_type": "code",
      "metadata": {
        "trusted": true,
        "_uuid": "e8f7a19ca48a78b23c25bf8a04a8ebf7e174e0e0",
        "id": "4opJgfzZ0DEb"
      },
      "source": [
        "train[\"Education\"].value_counts(normalize=True).plot.bar(title = \"Education\")"
      ],
      "execution_count": null,
      "outputs": []
    },
    {
      "cell_type": "markdown",
      "metadata": {
        "_uuid": "8de010f77bd6db55428ee0829bda484f96e6db60",
        "id": "8P6uQCjd0DEf"
      },
      "source": [
        "Total number of People : 614\n",
        "\n",
        "78% are Graduated and 22% are not Graduated"
      ]
    },
    {
      "cell_type": "markdown",
      "metadata": {
        "_uuid": "06020d0e583d1730ef7ca36551e096b9807a81ba",
        "id": "5cqtsCaa0DEg"
      },
      "source": [
        "# Analysis on \"Property_Area\" variable :"
      ]
    },
    {
      "cell_type": "code",
      "metadata": {
        "trusted": true,
        "_uuid": "5473c754913bfd0f8ff7804e5a40dfe17a491d86",
        "id": "kKGB8WoJ0DEh"
      },
      "source": [
        "train[\"Property_Area\"].count()"
      ],
      "execution_count": null,
      "outputs": []
    },
    {
      "cell_type": "markdown",
      "metadata": {
        "_uuid": "296c42c65984ca1c06175c711ad5c3694ea4c455",
        "id": "b9yvOVkw0DEo"
      },
      "source": [
        "Size of \"Property_Area\" variable : 614"
      ]
    },
    {
      "cell_type": "code",
      "metadata": {
        "trusted": true,
        "_uuid": "b61cad840f8a1330ca24f0e16756f3f79c8be65c",
        "id": "pmRgkMJQ0DEs"
      },
      "source": [
        "train[\"Property_Area\"].value_counts()"
      ],
      "execution_count": null,
      "outputs": []
    },
    {
      "cell_type": "markdown",
      "metadata": {
        "_uuid": "9044cabdce191e13aa63d1339d0b315fdc523771",
        "id": "mFqjTbwt0DEw"
      },
      "source": [
        "Total number of People : 614\n",
        "\n",
        "People from Semiurban area : 233\n",
        "\n",
        "People from Urban area : 202\n",
        "\n",
        "People from Rural area : 179\n",
        "    "
      ]
    },
    {
      "cell_type": "code",
      "metadata": {
        "trusted": true,
        "_uuid": "dfd0daa2891f14cc82d2c621be68bb338d304606",
        "id": "SCs_AjoC0DEx"
      },
      "source": [
        "train[\"Property_Area\"].value_counts(normalize=True)*100"
      ],
      "execution_count": null,
      "outputs": []
    },
    {
      "cell_type": "code",
      "metadata": {
        "trusted": true,
        "_uuid": "6c6c8f8db1d22bd69fddfbf4b5fff47653a4107d",
        "id": "xc3OCPFO0DE2"
      },
      "source": [
        "train[\"Property_Area\"].value_counts(normalize=True).plot.bar(title=\"Property_Area\")"
      ],
      "execution_count": null,
      "outputs": []
    },
    {
      "cell_type": "markdown",
      "metadata": {
        "_uuid": "cad30f1e73cba001237ef4650e32c741afe71f10",
        "id": "N5DoFZ6u0DFB"
      },
      "source": [
        "38% people from Semiurban area\n",
        "\n",
        "33% people from Urban area\n",
        "\n",
        "29% people from Rural area"
      ]
    },
    {
      "cell_type": "markdown",
      "metadata": {
        "_uuid": "93104b0a05058d336004556796adc9c16541dd63",
        "id": "dSLhxTr-0DFC"
      },
      "source": [
        "# Independent Variable (Numerical)"
      ]
    },
    {
      "cell_type": "markdown",
      "metadata": {
        "_uuid": "6bd2476eee9e0665849d93385cb0f216f7bc7d04",
        "id": "Xift8yUU0DFE"
      },
      "source": [
        "Numerical features: These features have numerical values (ApplicantIncome, CoapplicantIncome, LoanAmount, Loan_Amount_Term)"
      ]
    },
    {
      "cell_type": "markdown",
      "metadata": {
        "_uuid": "bc5b58d7c735cd06d21450d06d5a605bf7b87f46",
        "id": "alv89ab80DFF"
      },
      "source": [
        "# \"ApplicantIncome\" distribution :"
      ]
    },
    {
      "cell_type": "code",
      "metadata": {
        "trusted": true,
        "_uuid": "f947095ee79ede803a415810675121087fef00ff",
        "id": "7tBTc2II0DFG"
      },
      "source": [
        "plt.figure(1)\n",
        "plt.subplot(121)\n",
        "sns.distplot(train[\"ApplicantIncome\"]);\n",
        "\n",
        "plt.subplot(122)\n",
        "train[\"ApplicantIncome\"].plot.box(figsize=(16,5))\n",
        "plt.show()"
      ],
      "execution_count": null,
      "outputs": []
    },
    {
      "cell_type": "markdown",
      "metadata": {
        "_uuid": "8ffa5588a51db431a0610d3e8890c18c7c856d30",
        "id": "c3T9tymz0DFN"
      },
      "source": [
        "It can be inferred that most of the data in the distribution of applicant income is towards left which means it is not normally distributed. We will try to make it normal in later sections as algorithms works better if the data is normally distributed.\n",
        "\n",
        "The boxplot confirms the presence of a lot of outliers/extreme values. This can be attributed to the income disparity in the society."
      ]
    },
    {
      "cell_type": "markdown",
      "metadata": {
        "_uuid": "8689c62bad73da42141e36cb9fb9105ab822154b",
        "id": "q1YvWYWt0DFO"
      },
      "source": [
        "Part of this can be driven by the fact that we are looking at people with different education levels. Let us segregate them by Education:"
      ]
    },
    {
      "cell_type": "code",
      "metadata": {
        "trusted": true,
        "_uuid": "f7de79199eeafef79d545d3f008e584b9cf213fb",
        "id": "299nC6eg0DFP"
      },
      "source": [
        "train.boxplot(column='ApplicantIncome',by=\"Education\" )\n",
        "plt.suptitle(\" \")\n",
        "plt.show()"
      ],
      "execution_count": null,
      "outputs": []
    },
    {
      "cell_type": "markdown",
      "metadata": {
        "_uuid": "f20c2f3fff9c5e66cfb9d8021b21e317f1a0078a",
        "id": "yaIjBNeo0DFU"
      },
      "source": [
        "We can see that there are a higher number of graduates with very high incomes, which are appearing to be the outliers."
      ]
    },
    {
      "cell_type": "markdown",
      "metadata": {
        "_uuid": "88fab85ad99dad708c91fbf16ca80ac51ce21f6d",
        "id": "-AshQGpt0DFU"
      },
      "source": [
        "# Let’s look at the \"CoapplicantIncome\" distribution:\n"
      ]
    },
    {
      "cell_type": "code",
      "metadata": {
        "scrolled": true,
        "trusted": true,
        "_uuid": "78ceae0bb3459a3baf7b94d2886d10e1da3e349a",
        "id": "_lRZ59bb0DFV"
      },
      "source": [
        "plt.figure(1)\n",
        "plt.subplot(121)\n",
        "sns.distplot(train[\"CoapplicantIncome\"]);\n",
        "\n",
        "plt.subplot(122)\n",
        "train[\"CoapplicantIncome\"].plot.box(figsize=(16,5))\n",
        "plt.show()"
      ],
      "execution_count": null,
      "outputs": []
    },
    {
      "cell_type": "markdown",
      "metadata": {
        "_uuid": "6c3886f52129e84b9a6e3aba1f8b922e28da14b6",
        "id": "J2b8QjfM0DFZ"
      },
      "source": [
        "We see a similar distribution as that of the applicant income. Majority of coapplicant’s income ranges from 0 to 5000. We also see a lot of outliers in the coapplicant income and it is not normally distributed."
      ]
    },
    {
      "cell_type": "markdown",
      "metadata": {
        "_uuid": "09024ce0065d29398cdb4eafea33990ef1e686da",
        "id": "j8z-mADa0DFa"
      },
      "source": [
        "# Let’s look at the distribution of \"LoanAmount\" variable :"
      ]
    },
    {
      "cell_type": "code",
      "metadata": {
        "trusted": true,
        "_uuid": "5948a1968c78125a467ca71cd05fb3cb1cf1dba0",
        "id": "qHEO-MPB0DFa"
      },
      "source": [
        "plt.figure(1)\n",
        "plt.subplot(121)\n",
        "df=train.dropna()\n",
        "sns.distplot(df['LoanAmount']);\n",
        "\n",
        "plt.subplot(122)\n",
        "train['LoanAmount'].plot.box(figsize=(16,5))\n",
        "\n",
        "plt.show()"
      ],
      "execution_count": null,
      "outputs": []
    },
    {
      "cell_type": "markdown",
      "metadata": {
        "_uuid": "331754993368ad6e09084e855f0dd3ea17c78670",
        "id": "93-yhD_40DFh"
      },
      "source": [
        "We see a lot of outliers in this variable and the distribution is fairly normal. We will treat the outliers in later sections."
      ]
    },
    {
      "cell_type": "markdown",
      "metadata": {
        "_uuid": "cbc26856fe8e26a664b5e5a2ceb7fecc0c4dca03",
        "id": "UqluOwNh0DFi"
      },
      "source": [
        "# distribution of \"LoanAmountTerm\" variable :"
      ]
    },
    {
      "cell_type": "code",
      "metadata": {
        "trusted": true,
        "_uuid": "c393db36719526292ab83ec64e2a3764b45ef374",
        "id": "kpjGftaZ0DFj"
      },
      "source": [
        "plt.figure(1)\n",
        "plt.subplot(121)\n",
        "df = train.dropna()\n",
        "sns.distplot(df[\"Loan_Amount_Term\"]);\n",
        "\n",
        "plt.subplot(122)\n",
        "df[\"Loan_Amount_Term\"].plot.box(figsize=(16,5))\n",
        "plt.show()"
      ],
      "execution_count": null,
      "outputs": []
    },
    {
      "cell_type": "markdown",
      "metadata": {
        "_uuid": "c92abb1f4e6d692e772303d391a302702c8a486c",
        "id": "YTcDk5e70DFo"
      },
      "source": [
        "We see a lot of outliers in this variable and the distribution is fairly normal. We will treat the outliers in later sections."
      ]
    },
    {
      "cell_type": "markdown",
      "metadata": {
        "collapsed": true,
        "_uuid": "f02af0b1471d625bed93a15e8cea76994cf34f59",
        "id": "olru2aaN0DFr"
      },
      "source": [
        "# Bivariate Analysis"
      ]
    },
    {
      "cell_type": "markdown",
      "metadata": {
        "_uuid": "5400ee8a7482f297559b982d3af2ed3deccd585b",
        "id": "82PBojt00DFs"
      },
      "source": [
        "Lets recall some of the hypotheses that we generated earlier:"
      ]
    },
    {
      "cell_type": "markdown",
      "metadata": {
        "_uuid": "f078f6348612d77182848563b42fe97423004c51",
        "id": "AzOL2M4F0DFt"
      },
      "source": [
        "i)Applicants with high income should have more chances of loan approval.\n",
        "\n",
        "ii)Applicants who have repaid their previous debts should have higher chances of loan approval.\n",
        "\n",
        "iii)Loan approval should also depend on the loan amount. If the loan amount is less, chances of loan approval should be high.\n",
        "\n",
        "iv)Lesser the amount to be paid monthly to repay the loan, higher the chances of loan approval."
      ]
    },
    {
      "cell_type": "markdown",
      "metadata": {
        "_uuid": "60ae1ecd137748a7fcb6627781441c6404eb6c3f",
        "id": "c9UVdLUd0DFu"
      },
      "source": [
        "Lets try to test the above mentioned hypotheses using bivariate analysis."
      ]
    },
    {
      "cell_type": "markdown",
      "metadata": {
        "_uuid": "c762c9b17432c8cbe05566cd5e2eac362fd6d856",
        "id": "aIGK_wdg0DFu"
      },
      "source": [
        "After looking at every variable individually in univariate analysis, we will now explore them again with respect to the target variable."
      ]
    },
    {
      "cell_type": "markdown",
      "metadata": {
        "_uuid": "57a6fdfba8cfc73650d87aa9873395fba137933d",
        "id": "eiXkr3jF0DFw"
      },
      "source": [
        "# Categorical Independent Variable vs Target Variable"
      ]
    },
    {
      "cell_type": "markdown",
      "metadata": {
        "_uuid": "f3267971565c2a5e70456632a044db71006b429e",
        "id": "JXPdGtt70DFx"
      },
      "source": [
        "First of all we will find the relation between target variable and categorical independent variables. Let us look at the stacked bar plot now which will give us the proportion of approved and unapproved loans."
      ]
    },
    {
      "cell_type": "markdown",
      "metadata": {
        "_uuid": "3b1958af136fbe44c4ab702d5b2213e66ab15f87",
        "id": "jHjoG1W40DFy"
      },
      "source": [
        "# Relation between \"Loan_Status\" and \"Gender\""
      ]
    },
    {
      "cell_type": "code",
      "metadata": {
        "trusted": true,
        "_uuid": "f08f2c5054589c63eb3ac5c492140e53518aa051",
        "id": "k1bWpe4v0DFz"
      },
      "source": [
        "print(pd.crosstab(train[\"Gender\"],train[\"Loan_Status\"]))\n",
        "Gender = pd.crosstab(train[\"Gender\"],train[\"Loan_Status\"])\n",
        "Gender.div(Gender.sum(1).astype(float),axis=0).plot(kind=\"bar\",stacked=True,figsize=(4,4))\n",
        "plt.xlabel(\"Gender\")\n",
        "plt.ylabel(\"Percentage\")\n",
        "plt.show()"
      ],
      "execution_count": null,
      "outputs": []
    },
    {
      "cell_type": "markdown",
      "metadata": {
        "_uuid": "b6ca4bbea9bd0071eae52fc4bdfff95cdea66835",
        "id": "h2vpbGnR0DF4"
      },
      "source": [
        "Number of Female whose Loan was approed : 75\n",
        "\n",
        "Number of Male whose Loan was approed : 339\n",
        "\n",
        "Number of Female whose Loan was not approed : 37\n",
        "\n",
        "Number of Male whose Loan was not approed : 150\n",
        "\n",
        "Proportion of Male applicants is higher for the approved loans."
      ]
    },
    {
      "cell_type": "markdown",
      "metadata": {
        "_uuid": "6ade553afd44ea3ddbc3ded73c06ebf83a1a7559",
        "id": "s-PV_VJ70DF5"
      },
      "source": [
        "# Relation between \"Loan_Status\" and \"Married\""
      ]
    },
    {
      "cell_type": "code",
      "metadata": {
        "trusted": true,
        "_uuid": "1749de913d87fed68a9c8631abc1cfef0af7afc9",
        "id": "WK_Fn6_k0DF5"
      },
      "source": [
        "print(pd.crosstab(train[\"Married\"],train[\"Loan_Status\"]))\n",
        "Married=pd.crosstab(train[\"Married\"],train[\"Loan_Status\"])\n",
        "Married.div(Married.sum(1).astype(float),axis=0).plot(kind=\"bar\",stacked=True,figsize=(4,4))\n",
        "plt.xlabel(\"Married\")\n",
        "plt.ylabel(\"Percentage\")\n",
        "plt.show()"
      ],
      "execution_count": null,
      "outputs": []
    },
    {
      "cell_type": "markdown",
      "metadata": {
        "_uuid": "dc90ed3a4f11586e285b4bd0d6fd54de8ab49927",
        "id": "o_lZMT-20DF9"
      },
      "source": [
        "Number of married people whose Loan was approed : 285\n",
        "\n",
        "Number of married people whose Loan was not approed : 113\n",
        "\n",
        "Number of unmarried people whose Loan was approed : 134\n",
        "\n",
        "Number of unmarried people whose Loan was not approed : 79\n",
        "\n",
        "Proportion of Married applicants is higher for the approved loans."
      ]
    },
    {
      "cell_type": "markdown",
      "metadata": {
        "_uuid": "ab7bad7faa28d7033cc39cd885be07c275f0dbe2",
        "id": "woAsnhUP0DF-"
      },
      "source": [
        "# Relation between \"Loan_Status\" and \"Dependents\""
      ]
    },
    {
      "cell_type": "code",
      "metadata": {
        "trusted": true,
        "_uuid": "0bf88f9f09f98b1611fba3fa00b14f6ca7659f80",
        "id": "vibvCycS0DF-"
      },
      "source": [
        "print(pd.crosstab(train['Dependents'],train[\"Loan_Status\"]))\n",
        "Dependents = pd.crosstab(train['Dependents'],train[\"Loan_Status\"])\n",
        "Dependents.div(Dependents.sum(1).astype(float),axis=0).plot(kind=\"bar\",stacked=True,figsize=(4,4))\n",
        "plt.xlabel(\"Dependents\")\n",
        "plt.ylabel(\"Percentage\")\n",
        "plt.show()"
      ],
      "execution_count": null,
      "outputs": []
    },
    {
      "cell_type": "markdown",
      "metadata": {
        "_uuid": "2d60fc0ddb8c66a0f62e0893a0da0d97d6c06851",
        "id": "xrjOIijp0DGC"
      },
      "source": [
        "Number of dependents on the loan applicant : 0  and Loan was approed : 238\n",
        "\n",
        "Number of dependents on the loan applicant : 0  and Loan was not approed : 107\n",
        "\n",
        "Number of dependents on the loan applicant : 1  and Loan was approed : 66\n",
        "\n",
        "Number of dependents on the loan applicant : 1  and Loan was not approed : 36\n",
        "\n",
        "Number of dependents on the loan applicant : 2  and Loan was approed : 76\n",
        "\n",
        "Number of dependents on the loan applicant : 2  and Loan was not approed : 25\n",
        "\n",
        "Number of dependents on the loan applicant : 3+  and Loan was approed : 33\n",
        "\n",
        "Number of dependents on the loan applicant : 3+  and Loan was not approed : 18\n",
        "\n",
        "Distribution of applicants with 1 or 3+ dependents is similar across both the categories of Loan_Status."
      ]
    },
    {
      "cell_type": "markdown",
      "metadata": {
        "_uuid": "f332993c8025970b16bf1e451d96cc8764e5be02",
        "id": "h3AuMCfX0DGD"
      },
      "source": [
        "# Relation between \"Loan_Status\" and \"Education\""
      ]
    },
    {
      "cell_type": "code",
      "metadata": {
        "trusted": true,
        "_uuid": "20a72ae2ad187da86306df67e23c738efcb9878e",
        "id": "pfVuSO7w0DGE"
      },
      "source": [
        "print(pd.crosstab(train[\"Education\"],train[\"Loan_Status\"]))\n",
        "Education = pd.crosstab(train[\"Education\"],train[\"Loan_Status\"])\n",
        "Education.div(Education.sum(1).astype(float),axis=0).plot(kind=\"bar\",stacked=True,figsize=(4,4))\n",
        "plt.xlabel(\"Education\")\n",
        "plt.ylabel(\"Percentage\")\n",
        "plt.show()"
      ],
      "execution_count": null,
      "outputs": []
    },
    {
      "cell_type": "markdown",
      "metadata": {
        "_uuid": "a3c9106528e2501ba6f14779ecf9d5869b2a1cef",
        "id": "SPHDDP3z0DGK"
      },
      "source": [
        "Number of people who are Graduate and Loan was approed : 340\n",
        "\n",
        "Number of people who are Graduate and Loan was no approed : 140\n",
        "\n",
        "Number of people who are Not Graduate and Loan was approed : 82\n",
        "\n",
        "Number of people who are Not Graduate and Loan was not approed : 52\n",
        "\n",
        "Proportion of Graduate applicants is higher for the approved loans.\n"
      ]
    },
    {
      "cell_type": "markdown",
      "metadata": {
        "_uuid": "ad20e92d7c7c9020018c8d9762f8cb0815e3de3c",
        "id": "1VWQEBUd0DGL"
      },
      "source": [
        "# Relation between \"Loan_Status\" and \"Self_Employed\""
      ]
    },
    {
      "cell_type": "code",
      "metadata": {
        "trusted": true,
        "_uuid": "e78c865b29ccfd76eb0c72c7f7799526b13d4aa4",
        "id": "fm2kgPS20DGL"
      },
      "source": [
        "print(pd.crosstab(train[\"Self_Employed\"],train[\"Loan_Status\"]))\n",
        "SelfEmployed = pd.crosstab(train[\"Self_Employed\"],train[\"Loan_Status\"])\n",
        "SelfEmployed.div(SelfEmployed.sum(1).astype(float),axis=0).plot(kind=\"bar\",stacked=True,figsize=(4,4))\n",
        "plt.xlabel(\"Self_Employed\")\n",
        "plt.ylabel(\"Percentage\")\n",
        "plt.show()"
      ],
      "execution_count": null,
      "outputs": []
    },
    {
      "cell_type": "markdown",
      "metadata": {
        "_uuid": "a2915397b5e7250e09e02600c9594957deafa6d5",
        "id": "3JvEWJPx0DGP"
      },
      "source": [
        "People who are Self_Employed and Loan was approed : 56\n",
        "\n",
        "People who are Self_Employed and Loan was not approed : 26\n",
        "\n",
        "People who are not Self_Employed and Loan was approed : 343\n",
        "\n",
        "People who are not Self_Employed and Loan was not approed : 157\n",
        "\n",
        "There is nothing significant we can infer from Self_Employed vs Loan_Status plot."
      ]
    },
    {
      "cell_type": "markdown",
      "metadata": {
        "_uuid": "71fda39d4bc8b179db78a42de7951392b61e5a4c",
        "id": "pk_QdrPe0DGQ"
      },
      "source": [
        "# Relation between \"Loan_Status\" and \"Credit_History\""
      ]
    },
    {
      "cell_type": "code",
      "metadata": {
        "trusted": true,
        "_uuid": "1b70c061e794a7d3331f44b6d83408103bf959dd",
        "id": "Ie8IT3IU0DGQ"
      },
      "source": [
        "print(pd.crosstab(train[\"Credit_History\"],train[\"Loan_Status\"]))\n",
        "CreditHistory = pd.crosstab(train[\"Credit_History\"],train[\"Loan_Status\"])\n",
        "CreditHistory.div(CreditHistory.sum(1).astype(float),axis=0).plot(kind=\"bar\",stacked=True,figsize=(4,4))\n",
        "plt.xlabel(\"Credit_History\")\n",
        "plt.ylabel(\"Percentage\")\n",
        "plt.show()"
      ],
      "execution_count": null,
      "outputs": []
    },
    {
      "cell_type": "markdown",
      "metadata": {
        "_uuid": "7b52face0dd82195454b1f3588f0d6666316191f",
        "id": "hb-OENi40DGU"
      },
      "source": [
        "People with credit history as 1 and loan was approved : 378\n",
        "\n",
        "People with credit history as 1 and loan was not approved : 97\n",
        "\n",
        "People with credit history as 0 and loan was approved : 7\n",
        "\n",
        "People with credit history as 0 and loan was not approved : 82\n",
        "\n",
        "It seems people with credit history as 1 are more likely to get their loans approved."
      ]
    },
    {
      "cell_type": "markdown",
      "metadata": {
        "_uuid": "72de98e2d3e750590839aa2c4298b777a05f90a8",
        "id": "My7eO9Yw0DGV"
      },
      "source": [
        "# Relation between \"Loan_Status\" and \"Property_Area\""
      ]
    },
    {
      "cell_type": "code",
      "metadata": {
        "trusted": true,
        "_uuid": "76ae79669bd2b4feea9feba66d096d0c88be6372",
        "id": "qTc5dalA0DGb"
      },
      "source": [
        "print(pd.crosstab(train[\"Property_Area\"],train[\"Loan_Status\"]))\n",
        "PropertyArea = pd.crosstab(train[\"Property_Area\"],train[\"Loan_Status\"])\n",
        "PropertyArea.div(PropertyArea.sum(1).astype(float),axis=0).plot(kind=\"bar\",stacked=True,figsize=(4,4))\n",
        "plt.xlabel(\"Property_Area\")\n",
        "plt.ylabel(\"Loan_Status\")\n",
        "plt.show()"
      ],
      "execution_count": null,
      "outputs": []
    },
    {
      "cell_type": "markdown",
      "metadata": {
        "_uuid": "e1c5b1fc8e99740c9a02c8df0fadc292533c94f5",
        "id": "YqR0qz3z0DGe"
      },
      "source": [
        "People who are from Rural area and loan was approved : 110\n",
        "\n",
        "People who are from Rural area and loan was not approved : 69\n",
        "\n",
        "People who are from Semiurban area and loan was approved : 179\n",
        "\n",
        "People who are from Semiurban area and loan was not approved : 54\n",
        "\n",
        "People who are from Urban area and loan was approved : 133\n",
        "\n",
        "People who are from Semiurban area and loan was not approved : 69\n",
        "\n",
        "Proportion of loans getting approved in semiurban area is higher as compared to that in rural or urban areas."
      ]
    },
    {
      "cell_type": "markdown",
      "metadata": {
        "_uuid": "2580c98dec55229e437160afe633093528f8a7a0",
        "id": "guoE5QIZ0DGf"
      },
      "source": [
        "# Numerical Independent Variable vs Target Variable"
      ]
    },
    {
      "cell_type": "markdown",
      "metadata": {
        "_uuid": "29a0804ed130c97fe8eb00592ab131d30bfc0c16",
        "id": "19iD6rTH0DGg"
      },
      "source": [
        "# Relation between \"Loan_Status\" and \"Income\""
      ]
    },
    {
      "cell_type": "markdown",
      "metadata": {
        "_uuid": "1f2ef9186de6e39d2685b9ee92edb2879825ed11",
        "id": "IuS5CaET0DGh"
      },
      "source": [
        "We will try to find the mean income of people for which the loan has been approved vs the mean income of people for which the loan has not been approved."
      ]
    },
    {
      "cell_type": "code",
      "metadata": {
        "trusted": true,
        "_uuid": "e45c4ab0b708d67de708b9af4c5df9baab34efb4",
        "id": "JW5OiqD10DGi"
      },
      "source": [
        "train.groupby(\"Loan_Status\")['ApplicantIncome'].mean().plot.bar()"
      ],
      "execution_count": null,
      "outputs": []
    },
    {
      "cell_type": "markdown",
      "metadata": {
        "_uuid": "d6a67d71cf240bb589609fe504947d26d4561dbd",
        "id": "FZZiGT8b0DGl"
      },
      "source": [
        "Here the y-axis represents the mean applicant income. We don’t see any change in the mean income.\n",
        "So, let’s make bins for the applicant income variable based on the values in it and analyze the corresponding loan status for each bin."
      ]
    },
    {
      "cell_type": "code",
      "metadata": {
        "trusted": true,
        "_uuid": "ef1c27d89ba1a897bd5a7aad82a95c7f3ccb3df0",
        "id": "joRD9MX70DGn"
      },
      "source": [
        "bins=[0,2500,4000,6000,81000]\n",
        "group=['Low','Average','High', 'Very high']\n",
        "train['Income_bin']=pd.cut(df['ApplicantIncome'],bins,labels=group)\n"
      ],
      "execution_count": null,
      "outputs": []
    },
    {
      "cell_type": "code",
      "metadata": {
        "trusted": true,
        "_uuid": "30bc0e509468d9a7390bce42ac69a1f8109e05b5",
        "id": "tFVE0VrV0DGs"
      },
      "source": [
        "print(pd.crosstab(train[\"Income_bin\"],train[\"Loan_Status\"]))\n",
        "Income_bin = pd.crosstab(train[\"Income_bin\"],train[\"Loan_Status\"])\n",
        "Income_bin.div(Income_bin.sum(1).astype(float),axis=0).plot(kind=\"bar\",stacked=True,figsize=(4,4))\n",
        "plt.xlabel(\"ApplicantIncome\")\n",
        "plt.ylabel(\"Percentage\")\n",
        "plt.show()"
      ],
      "execution_count": null,
      "outputs": []
    },
    {
      "cell_type": "markdown",
      "metadata": {
        "_uuid": "d6a2ea8f9f7e1575eada043928d299c4e89ac007",
        "id": "IJ96CTCL0DGx"
      },
      "source": [
        "It can be inferred that Applicant income does not affect the chances of loan approval which contradicts our hypothesis in which we assumed that if the applicant income is high the chances of loan approval will also be high."
      ]
    },
    {
      "cell_type": "markdown",
      "metadata": {
        "_uuid": "27724a727f13859a6b3ea416393a1c43c43f50ed",
        "id": "bqoKaT8y0DGx"
      },
      "source": [
        "We will analyze the coapplicant income and loan amount variable in similar way."
      ]
    },
    {
      "cell_type": "code",
      "metadata": {
        "trusted": true,
        "_uuid": "483fd6aed8a8c669ee3e864b42d7c6e7970e0bbb",
        "id": "IHv31jql0DGy"
      },
      "source": [
        "bins=[0,1000,3000,42000]\n",
        "group =['Low','Average','High']\n",
        "train['CoapplicantIncome_bin']=pd.cut(df[\"CoapplicantIncome\"],bins,labels=group)"
      ],
      "execution_count": null,
      "outputs": []
    },
    {
      "cell_type": "code",
      "metadata": {
        "trusted": true,
        "_uuid": "31e62f58910db5b3b5d2230eaf3ef372afb61b10",
        "id": "5-Vjs7vQ0DG1"
      },
      "source": [
        "print(pd.crosstab(train[\"CoapplicantIncome_bin\"],train[\"Loan_Status\"]))\n",
        "CoapplicantIncome_Bin = pd.crosstab(train[\"CoapplicantIncome_bin\"],train[\"Loan_Status\"])\n",
        "CoapplicantIncome_Bin.div(CoapplicantIncome_Bin.sum(1).astype(float),axis=0).plot(kind='bar',stacked=True,figsize=(4,4))\n",
        "plt.xlabel(\"CoapplicantIncome\")\n",
        "plt.ylabel(\"Percentage\")\n",
        "plt.show()"
      ],
      "execution_count": null,
      "outputs": []
    },
    {
      "cell_type": "markdown",
      "metadata": {
        "_uuid": "e14f607b2bf538c130b796fc053c44cd9980ce7f",
        "id": "O-IZtug80DG5"
      },
      "source": [
        "It shows that if coapplicant’s income is less the chances of loan approval are high. But this does not look right. The possible reason behind this may be that most of the applicants don’t have any coapplicant so the coapplicant income for such applicants is 0 and hence the loan approval is not dependent on it. So we can make a new variable in which we will combine the applicant’s and coapplicant’s income to visualize the combined effect of income on loan approval."
      ]
    },
    {
      "cell_type": "code",
      "metadata": {
        "trusted": true,
        "_uuid": "73961afc9809f827800960fc1f7367d5036ffb42",
        "id": "3Jpx-RyF0DG9"
      },
      "source": [
        "train[\"TotalIncome\"]=train[\"ApplicantIncome\"]+train[\"CoapplicantIncome\"]"
      ],
      "execution_count": null,
      "outputs": []
    },
    {
      "cell_type": "code",
      "metadata": {
        "trusted": true,
        "_uuid": "c7728515c3cd6b5e1331d5b1a32be4bbbaaf1e0b",
        "id": "bfwE-XSs0DHC"
      },
      "source": [
        "bins =[0,2500,4000,6000,81000]\n",
        "group=['Low','Average','High','Very High']\n",
        "train[\"TotalIncome_bin\"]=pd.cut(train[\"TotalIncome\"],bins,labels=group)"
      ],
      "execution_count": null,
      "outputs": []
    },
    {
      "cell_type": "code",
      "metadata": {
        "scrolled": true,
        "trusted": true,
        "_uuid": "bcb2e258ff189b60740e01266667b3639072bb7c",
        "id": "RzemYLwO0DHI"
      },
      "source": [
        "print(pd.crosstab(train[\"TotalIncome_bin\"],train[\"Loan_Status\"]))\n",
        "TotalIncome = pd.crosstab(train[\"TotalIncome_bin\"],train[\"Loan_Status\"])\n",
        "TotalIncome.div(TotalIncome.sum(1).astype(float),axis=0).plot(kind='bar',stacked=True,figsize=(2,2))\n",
        "plt.xlabel(\"TotalIncome\")\n",
        "plt.ylabel(\"Percentage\")\n",
        "plt.show()"
      ],
      "execution_count": null,
      "outputs": []
    },
    {
      "cell_type": "markdown",
      "metadata": {
        "_uuid": "1fccaa94a96e852360e4f8a255e3dd7a19f42de1",
        "id": "cYQfQUFz0DHM"
      },
      "source": [
        "Whose TotalIncome was Low and loan was approved : 10\n",
        "\n",
        "Whose TotalIncome was Low and loan was not approved : 14\n",
        "\n",
        "Whose TotalIncome was Aerage and loan was apprvoed : 87\n",
        "\n",
        "Whose TotalIncome was Average and loan was not approved : 32\n",
        "\n",
        "Whose TotalIncome was High and loan was approved : 159\n",
        "\n",
        "Whose TotalIncome was High and loan was not approved : 65\n",
        "\n",
        "Whose TotalIncome was Very High and loan was approved : 166\n",
        "\n",
        "Whose TotalIncome was Very High and loan was not approed : 81\n",
        "\n",
        "We can see that Proportion of loans getting approved for applicants having low Total_Income is very less as compared to that of applicants with Average, High and Very High Income."
      ]
    },
    {
      "cell_type": "markdown",
      "metadata": {
        "_uuid": "3e6c02840914d1f82ebbf3d5e4f46fe25ed9d24e",
        "id": "KkxG8UD00DHM"
      },
      "source": [
        "# Relation between \"Loan_Status\" and \"Loan Amount\""
      ]
    },
    {
      "cell_type": "code",
      "metadata": {
        "trusted": true,
        "_uuid": "3ada6e2180487fd221049a81c00355f8a5ff08d3",
        "id": "FmF2SsVD0DHN"
      },
      "source": [
        "bins = [0,100,200,700]\n",
        "group=['Low','Average','High']\n",
        "train[\"LoanAmount_bin\"]=pd.cut(df[\"LoanAmount\"],bins,labels=group)"
      ],
      "execution_count": null,
      "outputs": []
    },
    {
      "cell_type": "code",
      "metadata": {
        "trusted": true,
        "_uuid": "c8107671682a446053c908a62806894cfc3c98e9",
        "id": "aIaceKjY0DHS"
      },
      "source": [
        "print(pd.crosstab(train[\"LoanAmount_bin\"],train[\"Loan_Status\"]))\n",
        "LoanAmount=pd.crosstab(train[\"LoanAmount_bin\"],train[\"Loan_Status\"])\n",
        "LoanAmount.div(LoanAmount.sum(1).astype(float),axis=0).plot(kind='bar',stacked=True,figsize=(4,4))\n",
        "plt.xlabel(\"LoanAmount\")\n",
        "plt.ylabel(\"Percentage\")\n",
        "plt.show()"
      ],
      "execution_count": null,
      "outputs": []
    },
    {
      "cell_type": "markdown",
      "metadata": {
        "_uuid": "bfe923bd9537d0d943536155646e7d8c327edfc2",
        "id": "ddQyRPGy0DHY"
      },
      "source": [
        "Whose Loan Amount was low and Loan was approved : 86\n",
        "\n",
        "Whose Loan Amount was low and Loan was not approved : 38\n",
        "\n",
        "Whose Loan Amount was Average and Loan was approved : 207\n",
        "\n",
        "Whose Loan Amount was Average and Loan was not approved : 83\n",
        "\n",
        "Whose Loan Amount was High and Loan was approved : 39\n",
        "\n",
        "Whose Loan Amount was High and Loan was not approved : 27\n",
        "\n",
        "It can be seen that the proportion of approved loans is higher for Low and Average Loan Amount as compared to that of High Loan Amount which supports our hypothesis in which we considered that the chances of loan approval will be high when the loan amount is less."
      ]
    },
    {
      "cell_type": "markdown",
      "metadata": {
        "_uuid": "f48511e120c6f21ca38a48dbab09469cbb6c01ab",
        "id": "HfAwmy6G0DHZ"
      },
      "source": [
        "# Let’s drop the bins which we created for the exploration part. We will change the 3+ in dependents variable to 3 to make it a numerical variable"
      ]
    },
    {
      "cell_type": "code",
      "metadata": {
        "trusted": true,
        "_uuid": "b08a7b528e14b537ee61c02215d453f7819b3d05",
        "id": "0nqlw13a0DHZ"
      },
      "source": [
        "train=train.drop([\"Income_bin\",\"CoapplicantIncome_bin\",\"LoanAmount_bin\",\"TotalIncome\",\"TotalIncome_bin\"],axis=1)"
      ],
      "execution_count": null,
      "outputs": []
    },
    {
      "cell_type": "code",
      "metadata": {
        "trusted": true,
        "_uuid": "80f3981c7945c7a4e7c08cc953f64f9caa5b9b1a",
        "id": "RcyMlDKD0DHd"
      },
      "source": [
        "#train['Dependents'].replace(('0', '1', '2', '3+'), (0, 1, 2, 3),inplace=True)\n",
        "#test['Dependents'].replace(('0', '1', '2', '3+'), (0, 1, 2, 3),inplace=True)\n",
        "train['Dependents'].replace('3+',3,inplace=True)\n",
        "test['Dependents'].replace('3+',3,inplace=True)\n",
        "train['Loan_Status'].replace('N', 0,inplace=True)\n",
        "train['Loan_Status'].replace('Y', 1,inplace=True)"
      ],
      "execution_count": null,
      "outputs": []
    },
    {
      "cell_type": "markdown",
      "metadata": {
        "_uuid": "82e9937838a888c7300daa1860f40e1ab16cdbe4",
        "id": "A_BuJf8-0DHh"
      },
      "source": [
        "Now lets look at the correlation between all the numerical variables. We will use the heat map to visualize the correlation. Heatmaps visualize data through variations in coloring.\n",
        "The variables with darker color means their correlation is more."
      ]
    },
    {
      "cell_type": "code",
      "metadata": {
        "trusted": true,
        "_uuid": "903e5265051a7abb7de3f501be7bff9f35784781",
        "id": "wid360EF0DHi"
      },
      "source": [
        "matrix = train.corr()\n",
        "f, ax = plt.subplots(figsize=(10, 12))\n",
        "sns.heatmap(matrix, vmax=.8, square=True, cmap=\"BuPu\",annot=True);"
      ],
      "execution_count": null,
      "outputs": []
    },
    {
      "cell_type": "markdown",
      "metadata": {
        "_uuid": "24d53f8f20c42ec9003ade811f7c4cda72bafd6b",
        "id": "tgIPHekO0DHl"
      },
      "source": [
        "We see that the most correlated variables are (ApplicantIncome - LoanAmount) and (Credit_History - Loan_Status)."
      ]
    },
    {
      "cell_type": "markdown",
      "metadata": {
        "_uuid": "0ad355ad4e43fb5a904eef7ddf8c82ec03179eec",
        "id": "gn-fXHcz0DHn"
      },
      "source": [
        "# Missing Value and Outlier Treatment"
      ]
    },
    {
      "cell_type": "markdown",
      "metadata": {
        "_uuid": "a1be6f32fadeea6a9728283b8a0fe32be711ae40",
        "id": "C_WoWvXU0DHo"
      },
      "source": [
        "After exploring all the variables in our data, we can now impute the missing values and treat the outliers because missing data and outliers can have adverse effect on the model performance."
      ]
    },
    {
      "cell_type": "markdown",
      "metadata": {
        "_uuid": "8455d9028e259c95566cf828a1ca13bd99b49fa5",
        "id": "F723qfXg0DHo"
      },
      "source": [
        "# Missing value imputation"
      ]
    },
    {
      "cell_type": "markdown",
      "metadata": {
        "_uuid": "f588dc000527767c768f9a33bad9e91783db6333",
        "id": "565IUHGU0DHp"
      },
      "source": [
        "Let’s list out feature-wise count of missing values."
      ]
    },
    {
      "cell_type": "code",
      "metadata": {
        "trusted": true,
        "_uuid": "544dbbde4536fc9a575e4a178b5c6d83cc1689a9",
        "id": "b8JwoLoB0DHq"
      },
      "source": [
        "train.isnull().sum()"
      ],
      "execution_count": null,
      "outputs": []
    },
    {
      "cell_type": "markdown",
      "metadata": {
        "_uuid": "eabe4c0ab6e1f881eda4aa582f66e4a735f39a34",
        "id": "5F1Ukqfn0DHt"
      },
      "source": [
        "There are missing values in Gender, Married, Dependents, Self_Employed, LoanAmount, Loan_Amount_Term and Credit_History features."
      ]
    },
    {
      "cell_type": "markdown",
      "metadata": {
        "_uuid": "16693011afaa2de451480016337eddbfd1eea2d2",
        "id": "kaw31qSD0DHu"
      },
      "source": [
        "We will treat the missing values in all the features one by one.\n",
        "\n",
        "We can consider these methods to fill the missing values:\n",
        "\n",
        "For numerical variables: imputation using mean or median\n",
        "    \n",
        "For categorical variables: imputation using mode"
      ]
    },
    {
      "cell_type": "markdown",
      "metadata": {
        "_uuid": "a0d097654ada2a2510f5005fb78fc41fc9b25c55",
        "id": "WQlGWgQC0DHv"
      },
      "source": [
        "There are very less missing values in Gender, Married, Dependents, Credit_History and Self_Employed features so we can fill them using the mode of the features"
      ]
    },
    {
      "cell_type": "code",
      "metadata": {
        "trusted": true,
        "_uuid": "9eabedbb9a79ccfb3202a710310d9ee1efcf1422",
        "id": "lS_otxFB0DHw"
      },
      "source": [
        "train[\"Gender\"].fillna(train[\"Gender\"].mode()[0],inplace=True)\n",
        "train[\"Married\"].fillna(train[\"Married\"].mode()[0],inplace=True)\n",
        "train['Dependents'].fillna(train[\"Dependents\"].mode()[0],inplace=True)\n",
        "train[\"Self_Employed\"].fillna(train[\"Self_Employed\"].mode()[0],inplace=True)\n",
        "train[\"Credit_History\"].fillna(train[\"Credit_History\"].mode()[0],inplace=True)"
      ],
      "execution_count": null,
      "outputs": []
    },
    {
      "cell_type": "markdown",
      "metadata": {
        "_uuid": "b7fe48aa5e2cbda85180bc5890e82f90ffa0d085",
        "id": "MWzK1DsP0DHz"
      },
      "source": [
        "Now let’s try to find a way to fill the missing values in Loan_Amount_Term. \n",
        "We will look at the value count of the Loan amount term variable."
      ]
    },
    {
      "cell_type": "code",
      "metadata": {
        "trusted": true,
        "_uuid": "4e21c285a2ae24c503340bd879bbcc7d4cae981b",
        "id": "Q0p18tty0DHz"
      },
      "source": [
        "train[\"Loan_Amount_Term\"].value_counts()"
      ],
      "execution_count": null,
      "outputs": []
    },
    {
      "cell_type": "markdown",
      "metadata": {
        "_uuid": "a2f40d0815233bfae8e64a827b9be9b47a3f1cd4",
        "id": "lrOSGPUA0DH2"
      },
      "source": [
        "It can be seen that in loan amount term variable, the value of 360 is repeating the most.\n",
        "So we will replace the missing values in this variable using the mode of this variable."
      ]
    },
    {
      "cell_type": "code",
      "metadata": {
        "trusted": true,
        "_uuid": "a161e686deffba5e97e1c22b7887e4c32a77e5a4",
        "id": "CJOt06_F0DH3"
      },
      "source": [
        "train[\"Loan_Amount_Term\"].fillna(train[\"Loan_Amount_Term\"].mode()[0],inplace=True)"
      ],
      "execution_count": null,
      "outputs": []
    },
    {
      "cell_type": "code",
      "metadata": {
        "trusted": true,
        "_uuid": "9ed30d4d201957de3a05fab51c779ac2f377951d",
        "id": "UtdeseFm0DIE"
      },
      "source": [
        "train[\"Loan_Amount_Term\"].value_counts()"
      ],
      "execution_count": null,
      "outputs": []
    },
    {
      "cell_type": "markdown",
      "metadata": {
        "_uuid": "3cf07efa3a942c2b3b2f70e8e303799d0dd4d569",
        "id": "INOt12kv0DIL"
      },
      "source": [
        "Now we will see the LoanAmount variable. As it is a numerical variable, we can use mean or median to impute the missing values.\n",
        "\n",
        "We will use median to fill the null values as earlier we saw that loan amount have outliers so the mean will not be the proper approach as it is highly affected by the presence of outliers."
      ]
    },
    {
      "cell_type": "code",
      "metadata": {
        "trusted": true,
        "_uuid": "2bdd50ebf4bccef3985fe008d642783f888be23d",
        "id": "sj773YAD0DIM"
      },
      "source": [
        "train[\"LoanAmount\"].fillna(train[\"LoanAmount\"].median(),inplace=True)"
      ],
      "execution_count": null,
      "outputs": []
    },
    {
      "cell_type": "markdown",
      "metadata": {
        "_uuid": "ba01047b03b5bf354d740f560d9a30fe69b9ce14",
        "id": "9JHGrTQw0DIQ"
      },
      "source": [
        "Now lets check whether all the missing values are filled in the dataset."
      ]
    },
    {
      "cell_type": "code",
      "metadata": {
        "trusted": true,
        "_uuid": "dd0c936329a55d8c83e77d47c3182f169df1f3f2",
        "id": "sCH8JSZu0DIR"
      },
      "source": [
        "train.isnull().sum()"
      ],
      "execution_count": null,
      "outputs": []
    },
    {
      "cell_type": "markdown",
      "metadata": {
        "_uuid": "b0eee31c491d9b161ff67a938c631225f507c459",
        "id": "xbFzGS5Z0DIY"
      },
      "source": [
        "As we can see that all the missing values have been filled in the train dataset.\n",
        "\n",
        "Let’s fill all the missing values in the test dataset too with the same approach"
      ]
    },
    {
      "cell_type": "code",
      "metadata": {
        "trusted": true,
        "_uuid": "263dcadcfc10e2e40c7b9dfd30ca4a5ffb878a78",
        "id": "--2iUYy40DIY"
      },
      "source": [
        "test.isnull().sum()"
      ],
      "execution_count": null,
      "outputs": []
    },
    {
      "cell_type": "code",
      "metadata": {
        "trusted": true,
        "_uuid": "24f38a60698e499a3b664dd2514d423924ff9ce3",
        "id": "GcnVSdLd0DIb"
      },
      "source": [
        "test[\"Gender\"].fillna(test[\"Gender\"].mode()[0],inplace=True)\n",
        "test['Dependents'].fillna(test[\"Dependents\"].mode()[0],inplace=True)\n",
        "test[\"Self_Employed\"].fillna(test[\"Self_Employed\"].mode()[0],inplace=True)\n",
        "test[\"Loan_Amount_Term\"].fillna(test[\"Loan_Amount_Term\"].mode()[0],inplace=True)\n",
        "test[\"Credit_History\"].fillna(test[\"Credit_History\"].mode()[0],inplace=True)\n",
        "test[\"LoanAmount\"].fillna(test[\"LoanAmount\"].median(),inplace=True)"
      ],
      "execution_count": null,
      "outputs": []
    },
    {
      "cell_type": "code",
      "metadata": {
        "trusted": true,
        "_uuid": "04c601fd62efc49d50d298d1ccd57276df91c257",
        "id": "kgT1ryTH0DIf"
      },
      "source": [
        "test.isnull().sum()"
      ],
      "execution_count": null,
      "outputs": []
    },
    {
      "cell_type": "code",
      "metadata": {
        "trusted": true,
        "_uuid": "871147d297f1433e111ba7a557619b80f360b78a",
        "id": "NOWugIx40DIj"
      },
      "source": [
        "sns.distplot(train[\"LoanAmount\"]);"
      ],
      "execution_count": null,
      "outputs": []
    },
    {
      "cell_type": "code",
      "metadata": {
        "trusted": true,
        "_uuid": "11ad787aedb80d37d0b6289cb59708baadda69c7",
        "id": "XnZeDcgY0DIo"
      },
      "source": [
        "train['LoanAmount'].hist(bins=20)"
      ],
      "execution_count": null,
      "outputs": []
    },
    {
      "cell_type": "markdown",
      "metadata": {
        "_uuid": "523fb83cfc4526269d37d4ccf7a71fe1187adae1",
        "id": "CInAsMHO0DIr"
      },
      "source": [
        "Due to these outliers bulk of the data in the loan amount is at the left and the right tail is longer. This is called right skewness.\n",
        "\n",
        "One way to remove the skewness is by doing the log transformation. As we take the log transformation, it does not affect the smaller values much, but reduces the larger values. \n",
        "\n",
        "So, we get a distribution similar to normal distribution."
      ]
    },
    {
      "cell_type": "markdown",
      "metadata": {
        "_uuid": "611a9e2309fd0e6d6836b87ed504f4a55facdb70",
        "id": "vH2CwWsx0DIs"
      },
      "source": [
        "Let’s visualize the effect of log transformation. \n",
        "\n",
        "We will do the similar changes to the test file simultaneously."
      ]
    },
    {
      "cell_type": "code",
      "metadata": {
        "trusted": true,
        "_uuid": "b99858ec729849d9332039300a2a364346341718",
        "id": "VrpZyOVL0DIv"
      },
      "source": [
        "train['LoanAmount_log'] = np.log(train['LoanAmount'])\n",
        "train['LoanAmount_log'].hist(bins=20)"
      ],
      "execution_count": null,
      "outputs": []
    },
    {
      "cell_type": "code",
      "metadata": {
        "trusted": true,
        "_uuid": "c50caf9c187a52150b1ea8c95f4ddf1a5a4f7fad",
        "id": "rgr3on4D0DI1"
      },
      "source": [
        "sns.distplot(train[\"LoanAmount_log\"])"
      ],
      "execution_count": null,
      "outputs": []
    },
    {
      "cell_type": "markdown",
      "metadata": {
        "_uuid": "21e592e29c74b06cb861f93c473ced879c73c333",
        "id": "kQ7VP9bZ0DI4"
      },
      "source": [
        "Let's have a look in test set [LoanAmount]"
      ]
    },
    {
      "cell_type": "code",
      "metadata": {
        "trusted": true,
        "_uuid": "3ed949305bdd583b484ecc4138648a0320b2e567",
        "id": "0i-AS0RO0DI5"
      },
      "source": [
        "test[\"LoanAmount_log\"]=np.log(train[\"LoanAmount\"])\n",
        "test['LoanAmount_log'].hist(bins=20)"
      ],
      "execution_count": null,
      "outputs": []
    },
    {
      "cell_type": "code",
      "metadata": {
        "trusted": true,
        "_uuid": "db7eb58dc1e727cd7be59ac6acf00b09e91399eb",
        "id": "onHfqDrR0DI8"
      },
      "source": [
        "sns.distplot(test[\"LoanAmount_log\"])"
      ],
      "execution_count": null,
      "outputs": []
    },
    {
      "cell_type": "markdown",
      "metadata": {
        "_uuid": "8c027a160b4aa113380a3c30a11aac5e2a5bf58f",
        "id": "4FAxDtoq0DJA"
      },
      "source": [
        "# Feature Engineering"
      ]
    },
    {
      "cell_type": "markdown",
      "metadata": {
        "_uuid": "67df7ec213ddde368be9811f77ae7b5ba8b28d17",
        "id": "6y5VRbHh0DJB"
      },
      "source": [
        "Based on the domain knowledge, we can come up with new features that might affect the target variable. We will create the following three new features:"
      ]
    },
    {
      "cell_type": "markdown",
      "metadata": {
        "_uuid": "c58b6502e02c1786c72eedcea44296a572c9d91a",
        "id": "MRwcaGXW0DJC"
      },
      "source": [
        "Total Income - As discussed during bivariate analysis we will combine the Applicant Income and Coapplicant Income. If the total income is high, chances of loan approval might also be high."
      ]
    },
    {
      "cell_type": "markdown",
      "metadata": {
        "_uuid": "bb9e48158c7789ee97cbacac90f958ae4d7901f2",
        "id": "nI0XJMa80DJC"
      },
      "source": [
        "EMI - EMI is the monthly amount to be paid by the applicant to repay the loan. Idea behind making this variable is that people who have high EMI’s might find it difficult to pay back the loan. We can calculate the EMI by taking the ratio of loan amount with respect to loan amount term."
      ]
    },
    {
      "cell_type": "markdown",
      "metadata": {
        "_uuid": "5dc5c38104d3ed72606f8e462fb0e6e1022702a6",
        "id": "XRJvSZYm0DJD"
      },
      "source": [
        "Balance Income - This is the income left after the EMI has been paid. Idea behind creating this variable is that if this value is high, the chances are high that a person will repay the loan and hence increasing the chances of loan approval."
      ]
    },
    {
      "cell_type": "code",
      "metadata": {
        "trusted": true,
        "_uuid": "839ac00d5e05e0e0d3d63733f6c2634a7554f261",
        "id": "h83nVeNK0DJD"
      },
      "source": [
        "train[\"TotalIncome\"]=train[\"ApplicantIncome\"]+train[\"CoapplicantIncome\"]"
      ],
      "execution_count": null,
      "outputs": []
    },
    {
      "cell_type": "markdown",
      "metadata": {
        "_uuid": "7ec36b3c4422d96e4ffdb8e4de733fd7594ea819",
        "id": "9-dN1C4v0DJK"
      },
      "source": [
        "Just have a look of train dataset  \"TotalIncome\""
      ]
    },
    {
      "cell_type": "code",
      "metadata": {
        "trusted": true,
        "_uuid": "92a1070057d4edaa0594757faf134d95b5d7a7d9",
        "id": "ebdAIj4N0DJL"
      },
      "source": [
        "train[[\"TotalIncome\"]].head()"
      ],
      "execution_count": null,
      "outputs": []
    },
    {
      "cell_type": "code",
      "metadata": {
        "trusted": true,
        "_uuid": "7e298ca7ff9c59a6cefb64d68dc4f57d7a1b83ca",
        "id": "0lM0io5a0DJT"
      },
      "source": [
        "test[\"TotalIncome\"]=test[\"ApplicantIncome\"]+test[\"CoapplicantIncome\"]"
      ],
      "execution_count": null,
      "outputs": []
    },
    {
      "cell_type": "markdown",
      "metadata": {
        "_uuid": "10b1f08c7a39ead00be7cd2433b8399285dc04ff",
        "id": "UUwFcsxY0DJW"
      },
      "source": [
        "Just have a look of test dataset \"TotalIncome\""
      ]
    },
    {
      "cell_type": "code",
      "metadata": {
        "trusted": true,
        "_uuid": "da1061025b530b59085d51a61cb06d2a4ff9c885",
        "id": "1iMtLIKZ0DJX"
      },
      "source": [
        "test[[\"TotalIncome\"]].head()"
      ],
      "execution_count": null,
      "outputs": []
    },
    {
      "cell_type": "markdown",
      "metadata": {
        "_uuid": "367b7005e8e220cf26ca1fe3e65614b94028251f",
        "id": "qT9Wzfmq0DJb"
      },
      "source": [
        "Let’s check the distribution of train dataset Total Income."
      ]
    },
    {
      "cell_type": "code",
      "metadata": {
        "trusted": true,
        "_uuid": "9a12d9e0f12af80ec13f556ca06d8f5f46aafdcd",
        "id": "AdrmFrGX0DJb"
      },
      "source": [
        "sns.distplot(train[\"TotalIncome\"])"
      ],
      "execution_count": null,
      "outputs": []
    },
    {
      "cell_type": "markdown",
      "metadata": {
        "_uuid": "806f2978e64c7996b4344316df861dbf3eb96c0b",
        "id": "QDJ-MpT10DJf"
      },
      "source": [
        "We can see it is shifted towards left, i.e., the distribution is right skewed. So, let’s take the log transformation to make the distribution normal."
      ]
    },
    {
      "cell_type": "code",
      "metadata": {
        "trusted": true,
        "_uuid": "42de653648b5851c1d470bd68a555a7ba1f7cc19",
        "id": "nznCIMwh0DJg"
      },
      "source": [
        "train[\"TotalIncome_log\"]=np.log(train[\"TotalIncome\"])\n",
        "sns.distplot(train[\"TotalIncome_log\"])"
      ],
      "execution_count": null,
      "outputs": []
    },
    {
      "cell_type": "markdown",
      "metadata": {
        "_uuid": "9ac547e0d0eeb660894fe208900390a1d4e817e6",
        "id": "Lndq9DPz0DJj"
      },
      "source": [
        "Now the distribution looks much closer to normal and effect of extreme values has been significantly subsided."
      ]
    },
    {
      "cell_type": "markdown",
      "metadata": {
        "_uuid": "26f92020dbf102181b0c85656112bfe3873fa9ad",
        "id": "pwtMblXt0DJj"
      },
      "source": [
        "Let’s check the distribution of test dataset Total Income."
      ]
    },
    {
      "cell_type": "code",
      "metadata": {
        "trusted": true,
        "_uuid": "50fcbd225e643cbe28656aceb797da11caa2b044",
        "id": "wNUK49Jf0DJk"
      },
      "source": [
        "sns.distplot(test[\"TotalIncome\"])"
      ],
      "execution_count": null,
      "outputs": []
    },
    {
      "cell_type": "markdown",
      "metadata": {
        "_uuid": "abb05cfa9eafaa19d2406b396478d7c2dee67575",
        "id": "GV80k9pM0DJn"
      },
      "source": [
        "We can see it is shifted towards left, i.e., the distribution is right skewed. So, let’s take the log transformation to make the distribution normal."
      ]
    },
    {
      "cell_type": "code",
      "metadata": {
        "trusted": true,
        "_uuid": "a52b28115435a12dafe5a5822c5a49ee8e2a1e59",
        "id": "bc1LqIjg0DJo"
      },
      "source": [
        "test[\"TotalIncome_log\"] = np.log(train[\"TotalIncome\"])\n",
        "sns.distplot(test[\"TotalIncome_log\"])"
      ],
      "execution_count": null,
      "outputs": []
    },
    {
      "cell_type": "markdown",
      "metadata": {
        "_uuid": "502ef0cfa52d56486514e9ee86c382371e1aeb3c",
        "id": "JgvsV6x00DJr"
      },
      "source": [
        "Now the distribution looks much closer to normal and effect of extreme values has been significantly subsided."
      ]
    },
    {
      "cell_type": "markdown",
      "metadata": {
        "_uuid": "c5bfbc9a427c0901130b1df2fcb8713ca0656c65",
        "id": "Dz2wxg1z0DJs"
      },
      "source": [
        "Now create the EMI feature."
      ]
    },
    {
      "cell_type": "code",
      "metadata": {
        "trusted": true,
        "_uuid": "fe1adb837dde927351321482703d6b4752548b76",
        "id": "lud0H_nz0DJs"
      },
      "source": [
        "train[\"EMI\"]=train[\"LoanAmount\"]/train[\"Loan_Amount_Term\"]\n",
        "test[\"EMI\"]=test[\"LoanAmount\"]/test[\"Loan_Amount_Term\"]"
      ],
      "execution_count": null,
      "outputs": []
    },
    {
      "cell_type": "markdown",
      "metadata": {
        "_uuid": "9c6a9457d213529fc4d465b727ba30a9ef9c7dfa",
        "id": "-n7L4JyB0DJv"
      },
      "source": [
        "Have a look of train dataset \"EMI\""
      ]
    },
    {
      "cell_type": "code",
      "metadata": {
        "trusted": true,
        "_uuid": "7a90f56a4f5a02dc2261ab8c2af48901ff98d302",
        "id": "7uIkybjU0DJw"
      },
      "source": [
        "train[[\"EMI\"]].head()"
      ],
      "execution_count": null,
      "outputs": []
    },
    {
      "cell_type": "markdown",
      "metadata": {
        "_uuid": "0f7535b3bce63c6b45f19921ab12bb69b4e720a5",
        "id": "rydR3jl20DJy"
      },
      "source": [
        "Again have a look of test dataset \"EMI\""
      ]
    },
    {
      "cell_type": "code",
      "metadata": {
        "trusted": true,
        "_uuid": "ab40229fe4b215f15445a9d2b7bc79134c908815",
        "id": "STc4QqbH0DJz"
      },
      "source": [
        "test[[\"EMI\"]].head()"
      ],
      "execution_count": null,
      "outputs": []
    },
    {
      "cell_type": "markdown",
      "metadata": {
        "_uuid": "06dbb9b5e213e7febfc59d3b40facae41982fafb",
        "id": "HcOyq6UN0DJ2"
      },
      "source": [
        "Let’s check the distribution of EMI variable."
      ]
    },
    {
      "cell_type": "code",
      "metadata": {
        "trusted": true,
        "_uuid": "96c9f4519f97c78c9520f6f3ed12a3a7be128714",
        "id": "dHgvWGKL0DJ3"
      },
      "source": [
        "sns.distplot(train[\"EMI\"])"
      ],
      "execution_count": null,
      "outputs": []
    },
    {
      "cell_type": "code",
      "metadata": {
        "trusted": true,
        "_uuid": "0ceaae53ab6a66332183c0d0d98f888c341d708e",
        "id": "Xm7nPitA0DJ5"
      },
      "source": [
        "sns.distplot(test[\"EMI\"])"
      ],
      "execution_count": null,
      "outputs": []
    },
    {
      "cell_type": "markdown",
      "metadata": {
        "_uuid": "190620fe79e20f7baac809f841e9ac5c0e0f6783",
        "id": "XjMu2HO80DJ9"
      },
      "source": [
        "Let's create Balance Income feature now and check its distribution."
      ]
    },
    {
      "cell_type": "code",
      "metadata": {
        "trusted": true,
        "_uuid": "79225d94e62119ff41a773e03f9c7ed0de3a917a",
        "id": "ooOSgIeI0DJ-"
      },
      "source": [
        "train[\"Balance_Income\"] = train[\"TotalIncome\"]-train[\"EMI\"]*1000 # To make the units equal we multiply with 1000\n",
        "test[\"Balance_Income\"] = test[\"TotalIncome\"]-test[\"EMI\"]"
      ],
      "execution_count": null,
      "outputs": []
    },
    {
      "cell_type": "markdown",
      "metadata": {
        "_uuid": "b8dc498b3f7b3abe64d966768bcc766bbae222ea",
        "id": "Oz0lhAy80DKE"
      },
      "source": [
        "Have a look of train dataset \"Balance Income\""
      ]
    },
    {
      "cell_type": "code",
      "metadata": {
        "trusted": true,
        "_uuid": "93c3bf327493fb0c4f50e1896dd357a9f57f9b0b",
        "id": "0ch6_WAR0DKF"
      },
      "source": [
        "train[[\"Balance_Income\"]].head()"
      ],
      "execution_count": null,
      "outputs": []
    },
    {
      "cell_type": "markdown",
      "metadata": {
        "_uuid": "f3880f59d7475d93f801a4fa820f0432ea82db5f",
        "id": "cZTlPyiO0DKH"
      },
      "source": [
        "Have a look of test dataset \"Balance Income\""
      ]
    },
    {
      "cell_type": "code",
      "metadata": {
        "trusted": true,
        "_uuid": "2961d2d90d67a25994ddbb8ccbe8841e3f7d314c",
        "id": "ooGoNzIY0DKO"
      },
      "source": [
        "test[[\"Balance_Income\"]].head()"
      ],
      "execution_count": null,
      "outputs": []
    },
    {
      "cell_type": "markdown",
      "metadata": {
        "_uuid": "2f0c4a321caebeba7183c15e17a69e539921070a",
        "id": "kDXyC_-a0DKS"
      },
      "source": [
        "Let us now drop the variables which we used to create these new features. Reason for doing this is, the correlation between those old features and these new features will be very high and logistic regression assumes that the variables are not highly correlated. We also wants to remove the noise from the dataset, so removing correlated features will help in reducing the noise too."
      ]
    },
    {
      "cell_type": "code",
      "metadata": {
        "trusted": true,
        "_uuid": "be05278decfd15fa7c411df63d7367b7389cf4ae",
        "id": "6dZm57mC0DKT"
      },
      "source": [
        "train=train.drop([\"ApplicantIncome\",\"CoapplicantIncome\",\"LoanAmount\",\"Loan_Amount_Term\"],axis=1)"
      ],
      "execution_count": null,
      "outputs": []
    },
    {
      "cell_type": "code",
      "metadata": {
        "trusted": true,
        "_uuid": "91d691ef2acca708ce16a56e26f32199bd0fa3b0",
        "id": "DMDSw5-g0DKV"
      },
      "source": [
        "train.head()"
      ],
      "execution_count": null,
      "outputs": []
    },
    {
      "cell_type": "code",
      "metadata": {
        "trusted": true,
        "_uuid": "7bee87af79d18bad23bdf208fa7408ad743c9f06",
        "id": "nmVbxznL0DKY"
      },
      "source": [
        "test = test.drop([\"ApplicantIncome\",\"CoapplicantIncome\",\"LoanAmount\",\"Loan_Amount_Term\"],axis=1)"
      ],
      "execution_count": null,
      "outputs": []
    },
    {
      "cell_type": "code",
      "metadata": {
        "trusted": true,
        "_uuid": "20387c78ef3f60beeff2b3f0f3091c81ac87b1f0",
        "id": "1P7seT2q0DKd"
      },
      "source": [
        "test.head()"
      ],
      "execution_count": null,
      "outputs": []
    },
    {
      "cell_type": "markdown",
      "metadata": {
        "_uuid": "df8ec327fd1832b6a47d3a589df262c283553020",
        "id": "QLUDA-qH0DKh"
      },
      "source": [
        "# Model Building :"
      ]
    },
    {
      "cell_type": "markdown",
      "metadata": {
        "_uuid": "cfcf262234c1ba56513649264eef47782ab6254d",
        "id": "jkt0r_UU0DKi"
      },
      "source": [
        "After creating new features, we can continue the model building process. So we will start with logistic regression model and then move over to more complex models like RandomForest and XGBoost"
      ]
    },
    {
      "cell_type": "markdown",
      "metadata": {
        "_uuid": "f725ef7b063d603af483f467bff19742278bcfab",
        "id": "osDlEVVn0DKi"
      },
      "source": [
        "We will build the following models in this section."
      ]
    },
    {
      "cell_type": "markdown",
      "metadata": {
        "_uuid": "4e59b181026fc1e5577f0137e0f6c8678ee748d2",
        "id": "cVTYoN200DKj"
      },
      "source": [
        "i)Logistic Regression\n",
        "\n",
        "ii)Decision Tree\n",
        "\n",
        "iii)Random Forest\n",
        "\n",
        "iv)Random Forest with Grid Search\n",
        "\n",
        "v)XGBClassifier"
      ]
    },
    {
      "cell_type": "markdown",
      "metadata": {
        "_uuid": "fc0fe7c1345c1e0f0ff77bf5130da9d53e96cbc6",
        "id": "yO3EIMJb0DKj"
      },
      "source": [
        "Let’s prepare the data for feeding into the models."
      ]
    },
    {
      "cell_type": "markdown",
      "metadata": {
        "_uuid": "50837b37afac768c1a9c9f2f4be4a6cc546149a9",
        "id": "XW5-QVF30DKk"
      },
      "source": [
        "Let's drop the \"Loan_ID\" variable as it do not have any effect on the loan status. We will do the same changes to the test dataset which we did for the training dataset."
      ]
    },
    {
      "cell_type": "markdown",
      "metadata": {
        "_uuid": "2ac67f190905441a35cd1e0b369039c343b10e59",
        "id": "FDW9kl-G0DKk"
      },
      "source": [
        "Drop \"Loan_ID\""
      ]
    },
    {
      "cell_type": "code",
      "metadata": {
        "trusted": true,
        "_uuid": "5d21b5d91e49e55129890a9b1c9b95f5692202c9",
        "id": "zaZPrFri0DKl"
      },
      "source": [
        "train=train.drop(\"Loan_ID\",axis=1)\n",
        "test=test.drop(\"Loan_ID\",axis=1)"
      ],
      "execution_count": null,
      "outputs": []
    },
    {
      "cell_type": "markdown",
      "metadata": {
        "_uuid": "d10188399684bd37120de74ad0b66021c9170ae3",
        "id": "i67HNoHI0DKu"
      },
      "source": [
        "After drop train dataset will look :"
      ]
    },
    {
      "cell_type": "code",
      "metadata": {
        "trusted": true,
        "_uuid": "41b4ee58f6501e227c32e678e8dd740ee72492f9",
        "id": "JccvPGs60DKw"
      },
      "source": [
        "train.head(3)"
      ],
      "execution_count": null,
      "outputs": []
    },
    {
      "cell_type": "markdown",
      "metadata": {
        "_uuid": "6c3d4f9a30f01645c1386aaed413b54e123e4c03",
        "id": "xmw1YDMZ0DK0"
      },
      "source": [
        "After drop test dataset will look :"
      ]
    },
    {
      "cell_type": "code",
      "metadata": {
        "trusted": true,
        "_uuid": "ffd79add8826c39dbb729c7c7bb8e2fcde9dde58",
        "id": "bUWND5zm0DK1"
      },
      "source": [
        "test.head(3)"
      ],
      "execution_count": null,
      "outputs": []
    },
    {
      "cell_type": "markdown",
      "metadata": {
        "_uuid": "4da0d513749f36e8c1de87a4877f2a637f42bc27",
        "id": "adQjKmhy0DK7"
      },
      "source": [
        "We will use scikit-learn (sklearn) for making different models which is an open source library for Python. It is one of the most efficient tool which contains many inbuilt functions that can be used for modeling in Python."
      ]
    },
    {
      "cell_type": "markdown",
      "metadata": {
        "_uuid": "744435df3f78972b9171cbf52efb9828013548cf",
        "id": "hoFKhubu0DK7"
      },
      "source": [
        "Sklearn requires the target variable in a separate dataset. So, we will drop our target variable from the train dataset and save it in another dataset."
      ]
    },
    {
      "cell_type": "markdown",
      "metadata": {
        "_uuid": "da641002381860e70256376127879e90f87d2446",
        "id": "FVKPGRt10DK-"
      },
      "source": [
        "droping the target variable \"Loan_Status\""
      ]
    },
    {
      "cell_type": "code",
      "metadata": {
        "trusted": true,
        "_uuid": "c104efaf293248e4e3a5b887fde7d926440e0866",
        "id": "ADfSC-oD0DK-"
      },
      "source": [
        "X=train.drop(\"Loan_Status\",1)"
      ],
      "execution_count": null,
      "outputs": []
    },
    {
      "cell_type": "code",
      "metadata": {
        "trusted": true,
        "_uuid": "19253f4905cf8e616003bd5d9ece39f5f8543795",
        "id": "RAFcSGH00DLC"
      },
      "source": [
        "X.head(2)"
      ],
      "execution_count": null,
      "outputs": []
    },
    {
      "cell_type": "markdown",
      "metadata": {
        "_uuid": "b8a8e11f18cc64e60f06f0ff76ce720b16b5b370",
        "id": "kZf85gC00DLF"
      },
      "source": [
        "save the target variable \"Loan_Status\" in another dataset"
      ]
    },
    {
      "cell_type": "code",
      "metadata": {
        "trusted": true,
        "_uuid": "193d3661cbd73a672f5ea18db68a6ba279b06b06",
        "id": "Zlxok-U10DLF"
      },
      "source": [
        "y=train[[\"Loan_Status\"]]"
      ],
      "execution_count": null,
      "outputs": []
    },
    {
      "cell_type": "code",
      "metadata": {
        "trusted": true,
        "_uuid": "12954bd4adb6d51a736b625450a3d1c29ffe823b",
        "id": "h1le1Yhg0DLJ"
      },
      "source": [
        "y.head(2)"
      ],
      "execution_count": null,
      "outputs": []
    },
    {
      "cell_type": "markdown",
      "metadata": {
        "_uuid": "6e953caa8b6703a1809af04fc70a99ac4ad0d8b6",
        "id": "O7AfmU_Y0DLN"
      },
      "source": [
        "Now we will make dummy variables for the categorical variables. Dummy variable turns categorical variables into a series of 0 and 1, making them lot easier to quantify and compare. \n",
        "\n",
        "Let us understand the process of dummies first:"
      ]
    },
    {
      "cell_type": "markdown",
      "metadata": {
        "_uuid": "9aaf423488821ee0ba6cf25067d7e8d26f15ec73",
        "id": "xKbzZs6e0DLN"
      },
      "source": [
        "Consider the “Gender” variable. It has two classes, Male and Female.\n",
        "\n",
        "As logistic regression takes only the numerical values as input, we have to change male and female into numerical value.\n",
        "\n",
        "Once we apply dummies to this variable, it will convert the “Gender” variable into two variables(Gender_Male and Gender_Female),\n",
        "one for each class, i.e. Male and Female.\n",
        "\n",
        "\n",
        "Gender_Male will have a value of 0 if the gender is Female and a value of 1 if the gender is Male."
      ]
    },
    {
      "cell_type": "code",
      "metadata": {
        "trusted": true,
        "_uuid": "47897cac8f4f1bc6bb0b76c0d5fb4e418561b1ee",
        "id": "qWxYiTqI0DLN"
      },
      "source": [
        "X = pd.get_dummies(X)"
      ],
      "execution_count": null,
      "outputs": []
    },
    {
      "cell_type": "code",
      "metadata": {
        "trusted": true,
        "_uuid": "4ecdc1c4afdb305e39d237a19700e921fb871d3b",
        "id": "y622PE9q0DLQ"
      },
      "source": [
        "X.head(3)"
      ],
      "execution_count": null,
      "outputs": []
    },
    {
      "cell_type": "code",
      "metadata": {
        "trusted": true,
        "_uuid": "5849fb86b374237185ac491d155a6e52000c8c26",
        "id": "UjJtAg8o0DLT"
      },
      "source": [
        "train=pd.get_dummies(train)\n",
        "test=pd.get_dummies(test)"
      ],
      "execution_count": null,
      "outputs": []
    },
    {
      "cell_type": "code",
      "metadata": {
        "trusted": true,
        "_uuid": "65d7d6185509c119f1cee79166cb0558d69f8713",
        "id": "kQLH4N9U0DLW"
      },
      "source": [
        "train.head(3)"
      ],
      "execution_count": null,
      "outputs": []
    },
    {
      "cell_type": "code",
      "metadata": {
        "trusted": true,
        "_uuid": "b0b6fe929ee06556152b590f74037085624476ec",
        "id": "lzg0Fzb80DLZ"
      },
      "source": [
        "test.head(3)"
      ],
      "execution_count": null,
      "outputs": []
    },
    {
      "cell_type": "markdown",
      "metadata": {
        "_uuid": "2619abfc26a29a1e685ecd7f0a37df7ae94b4f2c",
        "id": "HVqcqvgL0DLd"
      },
      "source": [
        "Now we will train the model on training dataset and make predictions for the test dataset. But can we validate these predictions?\n",
        "One way of doing this is we can divide our train dataset into two parts:train and validation.\n",
        "We can train the model on this train part and using that make predictions for the validation part.\n",
        "In this way we can validate our predictions as we have the true predictions for the validation part (which we do not have for the test dataset)."
      ]
    },
    {
      "cell_type": "markdown",
      "metadata": {
        "_uuid": "56724b726ad64aef11a0f6dfa90a470cef2a634a",
        "id": "Bnz_W-yL0DLe"
      },
      "source": [
        "\n",
        "\n",
        "We will use the train_test_split function from sklearn to divide our train dataset. So, first let us import train_test_split."
      ]
    },
    {
      "cell_type": "code",
      "metadata": {
        "trusted": true,
        "_uuid": "3a0ef20360693aa2dc4753424f04182b4f54b7bb",
        "id": "Z1sAMDk10DLf"
      },
      "source": [
        "from sklearn.model_selection import train_test_split"
      ],
      "execution_count": null,
      "outputs": []
    },
    {
      "cell_type": "code",
      "metadata": {
        "trusted": true,
        "_uuid": "27ba6fc88f59953263ccb3804a893438370e647b",
        "id": "kCyePCaZ0DLi"
      },
      "source": [
        "x_train,x_cv,y_train,y_cv=train_test_split(X,y,test_size=0.3,random_state=1)"
      ],
      "execution_count": null,
      "outputs": []
    },
    {
      "cell_type": "markdown",
      "metadata": {
        "_uuid": "c1f8ce9b54cf71a8056dc21e4ab7d43653c57759",
        "id": "oGkMjMKh0DLl"
      },
      "source": [
        "The dataset has been divided into training and validation part.\n",
        "\n",
        "70% data will use for train the model and rest of the 30% data will use for checking validation of the model. "
      ]
    },
    {
      "cell_type": "markdown",
      "metadata": {
        "_uuid": "7557d3aeb1981a5ce7b8309f0f51efd656f68a6b",
        "id": "0dZOLlMC0DLl"
      },
      "source": [
        "# Logistic Regression"
      ]
    },
    {
      "cell_type": "markdown",
      "metadata": {
        "_uuid": "173efa1eda104ff6cdbb5751200625644924663a",
        "id": "kPtcK_EV0DLm"
      },
      "source": [
        "Let's import LogisticRegression and accuracy_score from sklearn and fit the logistic regression model."
      ]
    },
    {
      "cell_type": "code",
      "metadata": {
        "trusted": true,
        "_uuid": "ec196aaf363a59297c067bfe01f288de066e1544",
        "id": "4skw5XQl0DLm"
      },
      "source": [
        "from sklearn.linear_model import LogisticRegression\n",
        "from sklearn.metrics import accuracy_score"
      ],
      "execution_count": null,
      "outputs": []
    },
    {
      "cell_type": "code",
      "metadata": {
        "trusted": true,
        "_uuid": "eb1ffac44c357932290298b850f7a4ef4ab0569c",
        "id": "nb09yb3d0DLp"
      },
      "source": [
        "logistic_model = LogisticRegression(random_state=1)"
      ],
      "execution_count": null,
      "outputs": []
    },
    {
      "cell_type": "code",
      "metadata": {
        "trusted": true,
        "_uuid": "86ee315d51dafe52d2bff3dbb6be12270f0e1082",
        "id": "qQTnsNDk0DLs"
      },
      "source": [
        "logistic_model.fit(x_train,y_train)"
      ],
      "execution_count": null,
      "outputs": []
    },
    {
      "cell_type": "markdown",
      "metadata": {
        "_uuid": "31b3f7a159c00adbaf6fb913654369b5925142c8",
        "id": "QbQRJS9p0DLv"
      },
      "source": [
        "Let’s predict the Loan_Status for validation set"
      ]
    },
    {
      "cell_type": "code",
      "metadata": {
        "trusted": true,
        "_uuid": "4368bd0b148a47fcfda60fe1b1b2cebdd6857073",
        "id": "qVxliMsN0DLv"
      },
      "source": [
        "pred_cv_logistic=logistic_model.predict(x_cv)"
      ],
      "execution_count": null,
      "outputs": []
    },
    {
      "cell_type": "markdown",
      "metadata": {
        "_uuid": "38b322e103d1513778803ee664876b8d45563eef",
        "id": "LOVq8tbx0DL1"
      },
      "source": [
        "Now calculate how accurate our predictions are by calculating the accuracy."
      ]
    },
    {
      "cell_type": "code",
      "metadata": {
        "trusted": true,
        "_uuid": "1848df46293ce9254398468e7f11485ec01d3843",
        "id": "WYdbsg--0DL1"
      },
      "source": [
        "score_logistic =accuracy_score(pred_cv_logistic,y_cv)*100 "
      ],
      "execution_count": null,
      "outputs": []
    },
    {
      "cell_type": "code",
      "metadata": {
        "trusted": true,
        "_uuid": "860581c8438aa107451f13c351522a7c976dbf61",
        "id": "8HFJzQXF0DL6"
      },
      "source": [
        "score_logistic"
      ],
      "execution_count": null,
      "outputs": []
    },
    {
      "cell_type": "markdown",
      "metadata": {
        "_uuid": "b60fa07995e333d08740823eff8b5e7de76a24f0",
        "id": "F9-t9Lfr0DMD"
      },
      "source": [
        "So our predictions are almost 79% accurate, i.e. we have identified 79% of the loan status correctly for our logistic regression model."
      ]
    },
    {
      "cell_type": "markdown",
      "metadata": {
        "_uuid": "a11387ca0a24e00333d1f183d70d6052dc5332b9",
        "id": "99pP3K-10DME"
      },
      "source": [
        "Let’s make predictions for the test dataset."
      ]
    },
    {
      "cell_type": "code",
      "metadata": {
        "trusted": true,
        "_uuid": "90ca7a4591c33e435effe77ff5d9188f524bc4d3",
        "id": "RA53EM1W0DME"
      },
      "source": [
        "pred_test_logistic = logistic_model.predict(test)"
      ],
      "execution_count": null,
      "outputs": []
    },
    {
      "cell_type": "markdown",
      "metadata": {
        "_uuid": "336ae525f49ec3339092f8a598c9c1755b6e4064",
        "id": "W4sJ4FHK0DMI"
      },
      "source": [
        "# Decision Tree\n",
        "\n"
      ]
    },
    {
      "cell_type": "markdown",
      "metadata": {
        "_uuid": "a49ec57b6b6f166a38add32472ec71d9d3200f0c",
        "id": "bKxf9jOc0DMI"
      },
      "source": [
        "Let's import Decison Tree Classifier"
      ]
    },
    {
      "cell_type": "code",
      "metadata": {
        "trusted": true,
        "_uuid": "522ade5a0459f3c4948b7bcff4f9847694b84faa",
        "id": "kp86LwST0DMJ"
      },
      "source": [
        "from sklearn.tree import DecisionTreeClassifier"
      ],
      "execution_count": null,
      "outputs": []
    },
    {
      "cell_type": "code",
      "metadata": {
        "trusted": true,
        "_uuid": "156fdee4a0654591e7b87203c68b74599daf7845",
        "id": "qta9PaNU0DML"
      },
      "source": [
        "tree_model = DecisionTreeClassifier(random_state=1)\n"
      ],
      "execution_count": null,
      "outputs": []
    },
    {
      "cell_type": "markdown",
      "metadata": {
        "_uuid": "0c16fa61500654715e4171bf5be563301a41e035",
        "id": "_X8_aG2o0DMO"
      },
      "source": [
        "Fit the model :"
      ]
    },
    {
      "cell_type": "code",
      "metadata": {
        "trusted": true,
        "_uuid": "ef13a3ab13d3f3ebc4a1fac682be69a625d787a2",
        "id": "AFNqZTj70DMO"
      },
      "source": [
        "tree_model.fit(x_train,y_train)"
      ],
      "execution_count": null,
      "outputs": []
    },
    {
      "cell_type": "code",
      "metadata": {
        "trusted": true,
        "_uuid": "940612678c5d6f00e8f8600f0fe45510efba3e8c",
        "id": "ul5pqwIC0DMR"
      },
      "source": [
        "pred_cv_tree=tree_model.predict(x_cv)"
      ],
      "execution_count": null,
      "outputs": []
    },
    {
      "cell_type": "code",
      "metadata": {
        "trusted": true,
        "_uuid": "4da1865f89d6ce4541ccff92d5feace408af37c0",
        "id": "VRyNiCsU0DMT"
      },
      "source": [
        "score_tree =accuracy_score(pred_cv_tree,y_cv)*100 "
      ],
      "execution_count": null,
      "outputs": []
    },
    {
      "cell_type": "code",
      "metadata": {
        "trusted": true,
        "_uuid": "4066241b2e6c5312f949923b34b67808db42371b",
        "id": "gelO3EAU0DMZ"
      },
      "source": [
        "score_tree"
      ],
      "execution_count": null,
      "outputs": []
    },
    {
      "cell_type": "markdown",
      "metadata": {
        "_uuid": "981950c29feed3f3dc2ab50c419433d9a9f52237",
        "id": "5yGf1tew0DMc"
      },
      "source": [
        "our predictions are almost 71% accurate, i.e. we have identified 71% of the loan status correctly for our Decision tree model."
      ]
    },
    {
      "cell_type": "markdown",
      "metadata": {
        "_uuid": "83a491fdcc7aea177a678d85df79075970c0e1df",
        "id": "aJOvAPe20DMd"
      },
      "source": [
        "Let’s make predictions for the test dataset."
      ]
    },
    {
      "cell_type": "code",
      "metadata": {
        "trusted": true,
        "_uuid": "6b66a08dfb3a92401c10584cf6f2d8e4459eb098",
        "id": "BdP546KV0DMe"
      },
      "source": [
        "pred_test_tree = tree_model.predict(test)"
      ],
      "execution_count": null,
      "outputs": []
    },
    {
      "cell_type": "markdown",
      "metadata": {
        "_uuid": "a5a2c47455cce2230a6a40fd2e32e2a84cce2ad7",
        "id": "t4KMHvwe0DMk"
      },
      "source": [
        "# Random Forest"
      ]
    },
    {
      "cell_type": "markdown",
      "metadata": {
        "_uuid": "ee68d73f8c827c6cdfbf56ac979f34b1e19c27c2",
        "id": "GUDToqsf0DMl"
      },
      "source": [
        "i)RandomForest is a tree based bootstrapping algorithm wherein a certain no. of weak learners (decision trees) are combined to make a powerful prediction model."
      ]
    },
    {
      "cell_type": "markdown",
      "metadata": {
        "_uuid": "c496adff5ddcca9245fd90e2dab000b9cd31574b",
        "id": "PijRHjqx0DMm"
      },
      "source": [
        "ii)For every individual learner, a random sample of rows and a few randomly chosen variables are used to build a decision tree model."
      ]
    },
    {
      "cell_type": "markdown",
      "metadata": {
        "_uuid": "47c2ff7791c8ee627cb7daf4475b070eb4d64d73",
        "id": "3M5tkLX-0DMm"
      },
      "source": [
        "iii)Final prediction can be a function of all the predictions made by the individual learners."
      ]
    },
    {
      "cell_type": "markdown",
      "metadata": {
        "_uuid": "75f978b46bb58395f638759b62f5d12e5286cc53",
        "id": "eup91Jz70DMn"
      },
      "source": [
        "Let's import Random Forest Classifier"
      ]
    },
    {
      "cell_type": "code",
      "metadata": {
        "trusted": true,
        "_uuid": "5479b44f67e76889f76ae2b2c47582b63279a177",
        "id": "BotCxqvs0DMn"
      },
      "source": [
        "from sklearn.ensemble import RandomForestClassifier"
      ],
      "execution_count": null,
      "outputs": []
    },
    {
      "cell_type": "code",
      "metadata": {
        "trusted": true,
        "_uuid": "53c0c99a4700cd4d0ed627c6ccffea55bfb087c6",
        "id": "iTUNqrSs0DMq"
      },
      "source": [
        "forest_model = RandomForestClassifier(random_state=1,max_depth=10,n_estimators=50)"
      ],
      "execution_count": null,
      "outputs": []
    },
    {
      "cell_type": "code",
      "metadata": {
        "trusted": true,
        "_uuid": "380a6e70da7c565949392671b13ad4f954901f8b",
        "id": "p3_A2YdB0DMu"
      },
      "source": [
        "forest_model.fit(x_train,y_train)"
      ],
      "execution_count": null,
      "outputs": []
    },
    {
      "cell_type": "code",
      "metadata": {
        "trusted": true,
        "_uuid": "8e73ed11cd5c399d43c0689e6addd0592c13940c",
        "id": "iVoEsCLA0DMy"
      },
      "source": [
        "pred_cv_forest=forest_model.predict(x_cv)"
      ],
      "execution_count": null,
      "outputs": []
    },
    {
      "cell_type": "code",
      "metadata": {
        "trusted": true,
        "_uuid": "f59db4398c4d495336de62a70f7ecf84ed391b0d",
        "id": "KpISbs290DM1"
      },
      "source": [
        "score_forest = accuracy_score(pred_cv_forest,y_cv)*100"
      ],
      "execution_count": null,
      "outputs": []
    },
    {
      "cell_type": "code",
      "metadata": {
        "trusted": true,
        "_uuid": "2eca3472b46be138bd04a226ba6e169be694018f",
        "id": "Y7XyCna40DM6"
      },
      "source": [
        "score_forest"
      ],
      "execution_count": null,
      "outputs": []
    },
    {
      "cell_type": "markdown",
      "metadata": {
        "_uuid": "c69a627d1eaeeecba6ae21ce627471744d1b17d3",
        "id": "borlgLcn0DM_"
      },
      "source": [
        "our predictions are almost 78% accurate, i.e. we have identified 78% of the loan status correctly for our Random Forest model."
      ]
    },
    {
      "cell_type": "markdown",
      "metadata": {
        "_uuid": "00bb5ec5b75803fffc049e0598205e7883d39998",
        "id": "4_8mImId0DM_"
      },
      "source": [
        "Let’s make predictions for the test dataset."
      ]
    },
    {
      "cell_type": "code",
      "metadata": {
        "trusted": true,
        "_uuid": "ca0c59cdd4a614e94f1ac13218b167f9a739be81",
        "id": "2JZeRqKe0DM_"
      },
      "source": [
        "pred_test_forest=forest_model.predict(test)"
      ],
      "execution_count": null,
      "outputs": []
    },
    {
      "cell_type": "markdown",
      "metadata": {
        "_uuid": "b3b76f1cdaccc0b7daea58c07aedf619f040d38f",
        "id": "cVb9Ef8R0DNC"
      },
      "source": [
        "# Random Forest with Grid-search"
      ]
    },
    {
      "cell_type": "markdown",
      "metadata": {
        "_uuid": "b104d92fc382a63ca46dba93d5e2eeee39486148",
        "id": "2WiTe-ld0DNC"
      },
      "source": [
        "We will try to improve the accuracy by tuning the hyperparameters for this model. We will use grid search to get the optimized values of hyper parameters. Grid-search is a way to select the best of a family of hyper parameters, parametrized by a grid of parameters."
      ]
    },
    {
      "cell_type": "markdown",
      "metadata": {
        "_uuid": "3b5a334e8339000ad742dbc4ee01009cd6443fc8",
        "id": "L5TCXb8f0DNC"
      },
      "source": [
        "We will tune the max_depth and n_estimators parameters. max_depth decides the maximum depth of the tree and n_estimators decides the number of trees that will be used in random forest model."
      ]
    },
    {
      "cell_type": "markdown",
      "metadata": {
        "_uuid": "2a118e40d60e00f96c85aa77137756a8a1774dee",
        "id": "Jgwg6vIK0DND"
      },
      "source": [
        "Let's import GridSearchCV"
      ]
    },
    {
      "cell_type": "code",
      "metadata": {
        "trusted": true,
        "_uuid": "d2447dc8d8c4b5298a6fe5de977162c85eb8ba16",
        "id": "2-xfTdD20DND"
      },
      "source": [
        "from sklearn.model_selection import GridSearchCV"
      ],
      "execution_count": null,
      "outputs": []
    },
    {
      "cell_type": "markdown",
      "metadata": {
        "_uuid": "24a94dc9c8670cddad597052e005dbcf57463c09",
        "id": "rwoZiBaH0DNN"
      },
      "source": [
        "Provide range for max_depth from 1 to 20 with an interval of 2 and from 1 to 200 with an interval of 20 for n_estimators."
      ]
    },
    {
      "cell_type": "code",
      "metadata": {
        "trusted": true,
        "_uuid": "bf4e8c32948e00b6422baa42f92005f034af75f6",
        "id": "ybNbY-bu0DNN"
      },
      "source": [
        "paramgrid = {'max_depth': list(range(1,20,2)),'n_estimators':list(range(1,200,20))}"
      ],
      "execution_count": null,
      "outputs": []
    },
    {
      "cell_type": "code",
      "metadata": {
        "trusted": true,
        "_uuid": "5a2f77f5e4c28c65acae18fa0d3f3f1bc8a08ce6",
        "id": "hhBCGa3I0DNQ"
      },
      "source": [
        "grid_search = GridSearchCV(RandomForestClassifier(random_state=1),paramgrid)"
      ],
      "execution_count": null,
      "outputs": []
    },
    {
      "cell_type": "markdown",
      "metadata": {
        "_uuid": "df58b8e496b3e58f2a97b025ae5972bd5a9c79bc",
        "id": "3OsqUO7U0DNV"
      },
      "source": [
        "Fit the grid search model"
      ]
    },
    {
      "cell_type": "code",
      "metadata": {
        "trusted": true,
        "_uuid": "a6ebf5fdb03acbb243330ebf8a891357a509db1a",
        "id": "JmpUaTgb0DNX"
      },
      "source": [
        "grid_search.fit(x_train,y_train)"
      ],
      "execution_count": null,
      "outputs": []
    },
    {
      "cell_type": "markdown",
      "metadata": {
        "_uuid": "e8c2156220ec632aa60da5e975cfccc390b9792a",
        "id": "tqtGFMHd0DNb"
      },
      "source": [
        "Find out the optimized value"
      ]
    },
    {
      "cell_type": "code",
      "metadata": {
        "trusted": true,
        "_uuid": "b8a532e0938f68181e77f5b7e7fd7bb36e00ddd0",
        "id": "cvRv4YZD0DNc"
      },
      "source": [
        "grid_search.best_estimator_"
      ],
      "execution_count": null,
      "outputs": []
    },
    {
      "cell_type": "markdown",
      "metadata": {
        "_uuid": "72fc4b8c1263411aa570ab522be0429981a2e014",
        "id": "BOeJd-zq0DNf"
      },
      "source": [
        "The optimized value for the max_depth variable is 3 and for n_estimator is 101,random_state = 1. Now let’s build the model using these optimized values."
      ]
    },
    {
      "cell_type": "code",
      "metadata": {
        "trusted": true,
        "_uuid": "a822c0dba5ff91f519da2cfced2cd4ae96d45dcb",
        "id": "11Ji7nwW0DNf"
      },
      "source": [
        "grid_forest_model = RandomForestClassifier(random_state=1,max_depth=3,n_estimators=101)"
      ],
      "execution_count": null,
      "outputs": []
    },
    {
      "cell_type": "code",
      "metadata": {
        "trusted": true,
        "_uuid": "675164154ca17d4794650a779ebd81a840077f80",
        "id": "3PCVUizh0DNo"
      },
      "source": [
        "grid_forest_model.fit(x_train,y_train)"
      ],
      "execution_count": null,
      "outputs": []
    },
    {
      "cell_type": "code",
      "metadata": {
        "trusted": true,
        "_uuid": "0210c4aa2159bb26d5e7ecc6bcd5bcf2b8413a4c",
        "id": "OX721QT-0DNq"
      },
      "source": [
        "pred_grid_forest = grid_forest_model.predict(x_cv)"
      ],
      "execution_count": null,
      "outputs": []
    },
    {
      "cell_type": "code",
      "metadata": {
        "trusted": true,
        "_uuid": "6400b3bc2c27a4a61525d7757442d6478d57f09c",
        "id": "0mfHX_YR0DNy"
      },
      "source": [
        "score_grid_forest = accuracy_score(pred_grid_forest,y_cv)*100"
      ],
      "execution_count": null,
      "outputs": []
    },
    {
      "cell_type": "code",
      "metadata": {
        "trusted": true,
        "_uuid": "0783ff4338527ba0749d2afb4712630d738343fb",
        "id": "1j5E5YR50DN4"
      },
      "source": [
        "score_grid_forest"
      ],
      "execution_count": null,
      "outputs": []
    },
    {
      "cell_type": "markdown",
      "metadata": {
        "_uuid": "2766f072ffdc6bb216a44142286c08426ea20043",
        "id": "sgF8fSsa0DN9"
      },
      "source": [
        "our predictions are almost 77% accurate, i.e. we have identified 77% of the loan status correctly for our Random Forest model with grid search."
      ]
    },
    {
      "cell_type": "code",
      "metadata": {
        "trusted": true,
        "_uuid": "d624ff63c8b4d32fc808b2a0f9884be40776933e",
        "id": "BW6fpwMF0DN-"
      },
      "source": [
        "pred_grid_forest_test = grid_forest_model.predict(test)"
      ],
      "execution_count": null,
      "outputs": []
    },
    {
      "cell_type": "markdown",
      "metadata": {
        "_uuid": "a10d6aacfe66588de9991285e9ce03899b4a0924",
        "id": "TlKnXCaQ0DOD"
      },
      "source": [
        "# XGBoost"
      ]
    },
    {
      "cell_type": "markdown",
      "metadata": {
        "_uuid": "36fcb26cbd497b2006063b18fbdc036a9459be27",
        "id": "RA7aqV7G0DOE"
      },
      "source": [
        "XGBoost is a fast and efficient algorithm.XGBoost works only with numeric variables and we have already replaced the categorical variables with numeric variables."
      ]
    },
    {
      "cell_type": "markdown",
      "metadata": {
        "_uuid": "d9186329506595c6fb82f4fd46cceaf2ba7d6b2f",
        "id": "cTb_pQty0DOG"
      },
      "source": [
        "Let’s have a look at the parameters that we are going to use in our model"
      ]
    },
    {
      "cell_type": "markdown",
      "metadata": {
        "_uuid": "4e64fa97bd1e751b3f1fb17b4171c47945444656",
        "id": "DBJsB20A0DOH"
      },
      "source": [
        "Let's import XGBClassifier and fit the model."
      ]
    },
    {
      "cell_type": "markdown",
      "metadata": {
        "_uuid": "06e77223d9f18c7a54984778d3da6bc575d986f8",
        "id": "jteVAfvK0DOH"
      },
      "source": [
        "n_estimator: This specifies the number of trees for the model.\n",
        "    \n",
        "max_depth: We can specify maximum depth of a tree using this parameter."
      ]
    },
    {
      "cell_type": "code",
      "metadata": {
        "trusted": true,
        "_uuid": "decd1174a31f774f6c7194944df8ef30d78e7337",
        "id": "u_0sJKaV0DOI"
      },
      "source": [
        "from xgboost import XGBClassifier"
      ],
      "execution_count": null,
      "outputs": []
    },
    {
      "cell_type": "code",
      "metadata": {
        "trusted": true,
        "_uuid": "b1dcf605fbe1b235703c80fc7c9f89e5647f9ee3",
        "id": "QX2Hoihn0DOK"
      },
      "source": [
        "xgb_model = XGBClassifier(n_estimators=50,max_depth=4)"
      ],
      "execution_count": null,
      "outputs": []
    },
    {
      "cell_type": "code",
      "metadata": {
        "trusted": true,
        "_uuid": "9f04a406cc8640cdac0e25b39f4477bd01d431f8",
        "id": "emPP5O_Q0DOO"
      },
      "source": [
        "xgb_model.fit(x_train,y_train)"
      ],
      "execution_count": null,
      "outputs": []
    },
    {
      "cell_type": "code",
      "metadata": {
        "trusted": true,
        "_uuid": "ac78c67e1ed979035cc541a551a28820789462eb",
        "id": "92LkmMHH0DOS"
      },
      "source": [
        "pred_xgb=xgb_model.predict(x_cv)"
      ],
      "execution_count": null,
      "outputs": []
    },
    {
      "cell_type": "code",
      "metadata": {
        "trusted": true,
        "_uuid": "8a829788434c0c441f05afb004f5f0e5c95556c0",
        "id": "CEYDMmuR0DOU"
      },
      "source": [
        "score_xgb = accuracy_score(pred_xgb,y_cv)*100"
      ],
      "execution_count": null,
      "outputs": []
    },
    {
      "cell_type": "code",
      "metadata": {
        "trusted": true,
        "_uuid": "4853deee7ff2f4903121c524e4f6fcbdb7c963d1",
        "id": "DrP6C2zu0DOW"
      },
      "source": [
        "score_xgb"
      ],
      "execution_count": null,
      "outputs": []
    },
    {
      "cell_type": "markdown",
      "metadata": {
        "_uuid": "8596ba714b432b2371fbea49623deac3f3fc4fe3",
        "id": "eXc0T40s0DOY"
      },
      "source": [
        "our predictions are almost 78% accurate, i.e. we have identified 78% of the loan status correctly for our XGBClassifier model."
      ]
    },
    {
      "cell_type": "markdown",
      "metadata": {
        "_uuid": "70ae9e55ed004f94a523b3ca412a1aee4bb43605",
        "id": "xlyEPwD20DOY"
      },
      "source": [
        "Logistic Regression model gives : 79% prediction accuracy\n",
        "\n",
        "Decision Tree model gives :   71%  prediction accuracy\n",
        "\n",
        "Random Forest model gives : 78%  prediction accuracy\n",
        "\n",
        "Random Forest with Grid Search model gives :  77%   prediction accuracy\n",
        "\n",
        "XGBClassifier model gives : 78%     prediction accuracy "
      ]
    },
    {
      "cell_type": "markdown",
      "metadata": {
        "_uuid": "fea77aa2b9b777cd7d83d66587da92e17dc0432b",
        "id": "0Mi0gxph0DOZ"
      },
      "source": [
        "# Find the important feature"
      ]
    },
    {
      "cell_type": "markdown",
      "metadata": {
        "_uuid": "70103a160fa6a8b99fcf5c62454e29249cb2dd45",
        "id": "0rZZkP7P0DOZ"
      },
      "source": [
        "Let us find the feature importance now, i.e. which features are most important for this problem. We will use feature_importances_attribute of sklearn to do it."
      ]
    },
    {
      "cell_type": "markdown",
      "metadata": {
        "_uuid": "a772d44a78b758a58aac10665716f8baa1fd6034",
        "id": "WOebmQwm0DOa"
      },
      "source": [
        "As 'LogisticRegression' object has no attribute 'feature_importances_' so we choose next high accuracy predictive model.\n",
        "Random Forest model is 2nd highest model.\n",
        "\n",
        "Using Random Forest model we can find out most important feature among the features."
      ]
    },
    {
      "cell_type": "code",
      "metadata": {
        "trusted": true,
        "_uuid": "991314321be1d721e605e8cb5e78d393e21ab8a7",
        "id": "fanFEQtR0DOa"
      },
      "source": [
        "importances = pd.Series(forest_model.feature_importances_,index=X.columns)\n",
        "importances.plot(kind='barh', figsize=(12,8))"
      ],
      "execution_count": null,
      "outputs": []
    },
    {
      "cell_type": "markdown",
      "metadata": {
        "_uuid": "9b1784ab4fe22b5185ecce5b2fa69384ea8190b7",
        "id": "_oUmCZ0q0DOc"
      },
      "source": [
        "We can find out that 'Credit_History','Balance Income' feature are most important. So, feature engineering helped us in predicting our target variable."
      ]
    },
    {
      "cell_type": "code",
      "metadata": {
        "trusted": true,
        "_uuid": "fd3e297a326897bc94df9411a58eb2c268126793",
        "id": "KCQWDf5T0DOd"
      },
      "source": [
        ""
      ],
      "execution_count": null,
      "outputs": []
    }
  ]
}